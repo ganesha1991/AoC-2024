{
 "cells": [
  {
   "cell_type": "code",
   "execution_count": null,
   "metadata": {},
   "outputs": [],
   "source": [
    "# with open(r\"C:\\Users\\thirggs\\Downloads\\Advent_of_code\\2024\\inputs\\10.txt\") as map_dump:\n",
    "# location in intranet\n",
    "\n",
    "with open(r\"C:\\Users\\sgane\\AoC\\Inputs\\10.txt\") as ip_dump: # location in my own machine\n",
    "# with open(r\"C:\\Users\\sgane\\AoC\\Inputs\\sample.txt\") as ip_dump:\n",
    "    # open the file, read entire file as string, strip the leading and trailing spaces, split based on newline character\n",
    "    grid = ip_dump.read().strip().split(\"\\n\")"
   ]
  },
  {
   "cell_type": "code",
   "execution_count": null,
   "metadata": {},
   "outputs": [
    {
     "name": "stdout",
     "output_type": "stream",
     "text": [
      "41 41\n"
     ]
    }
   ],
   "source": [
    "rows = len(grid)\n",
    "columns = len(grid[0])\n",
    "\n",
    "# directions will be [0,1](right), [1,0](down), [0,-1](left), [-1,0] (up)\n",
    "dd = [[0, 1], [1, 0], [0, -1], [-1, 0]]\n",
    "\n",
    "print(rows, columns)"
   ]
  },
  {
   "cell_type": "code",
   "execution_count": null,
   "metadata": {},
   "outputs": [],
   "source": [
    "# part 1 - score - number of 9 positions reachable from a trailhead(0 position ) via a hiking trail (1,2,3...8,9)\n",
    "# part 2 - rating - number of distinct hiking trails which begin at that trailhead(0). all possible trails\n",
    "# part 1 - only single trail to a 9 & part 2 - all possible trails to a 9\n",
    "# to traverse the map to find the hiking trail with increasing numbers from 0 to 9\n",
    "# we can use Depth First Search (DFS) algorithm to check\n",
    "# this function will return both score and rating\n",
    "def find_score(i,j):\n",
    "    # we have to start at zero - if not zero at this position - return score as zero\n",
    "    if grid[i][j] != \"0\":\n",
    "        return 0,0\n",
    "    \n",
    "    # this will continue only when the value is zero\n",
    "    \n",
    "    # initialise the score before traversing the grid \n",
    "    score = 0\n",
    "    # part 2 solution to find rating\n",
    "    rating = 0\n",
    "    # initialise the list to mark all the already reached 9s to eliminate duplicate paths to same 9\n",
    "    visited_9 = []\n",
    "\n",
    "\n",
    "    # get a list - where we capture the trail from a starting position as zero \n",
    "    # this will hold all the possible valid next positions\n",
    "    # ex. for a grid \n",
    "    # 01234\n",
    "    # 12345\n",
    "    # 49876\n",
    "    # it will hold both (1,0) and (0,1) for the value 1 after zero in (0,0) and will traverse both paths to check which\n",
    "    # path is eligible. \n",
    "    trails_check = [(i,j)] \n",
    "\n",
    "    while len(trails_check) > 0:\n",
    "\n",
    "        #print(trails_check)\n",
    "        # pop the last element from the list - and move the values(co-ordinates) to current values \n",
    "        current_i, current_j = trails_check.pop()\n",
    "    \n",
    "        # find the values at that current position\n",
    "        current_value = int(grid[current_i][current_j])\n",
    "        # if the current position value is 9 - then\n",
    "        if current_value == 9:\n",
    "            # increment rating as all paths to a single 9 will also be considered for part 2\n",
    "            rating += 1\n",
    "            # check if it is already visited - if not add the score as 1 and append it to visited list  for part 1\n",
    "            if (current_i,current_j) not in visited_9:\n",
    "                visited_9.append((current_i, current_j))\n",
    "                score += 1\n",
    "                continue\n",
    "                # print(current_i,current_j,score)\n",
    "            else:\n",
    "                continue\n",
    "        # print(trails_check)\n",
    "        # move to the next coordinates - loop over on all directions\n",
    "        for di, dj in dd:\n",
    "            next_i, next_j = current_i + di, current_j + dj\n",
    "            # find if the next position is out of range - if out of range move out of this loop\n",
    "            if not (0 <= next_i < rows and 0 <= next_j < columns):\n",
    "                \n",
    "                continue\n",
    "            # get next position value\n",
    "            next_value = int(grid[next_i][next_j])\n",
    "            # if next value is not incremented value of current value by 1 - then move out of this loop\n",
    "            if next_value != current_value + 1:\n",
    "                continue\n",
    "            # if the next value is incremented by 1 - then append it to check list to continue traversing the loop.\n",
    "            trails_check.append((next_i,next_j))\n",
    "    # print(score)\n",
    "    return score,rating"
   ]
  },
  {
   "cell_type": "code",
   "execution_count": null,
   "metadata": {},
   "outputs": [
    {
     "name": "stdout",
     "output_type": "stream",
     "text": [
      "548 1252\n"
     ]
    }
   ],
   "source": [
    "score = 0 # part 1\n",
    "rating = 0 # part 2\n",
    "# print(grid) \n",
    "for x in range(rows):\n",
    "    for y in range(columns):\n",
    "        a,b = find_score(x, y)\n",
    "        score += a\n",
    "        rating += b\n",
    "\n",
    "\n",
    "print(score,rating)"
   ]
  }
 ],
 "metadata": {
  "kernelspec": {
   "display_name": "Python 3",
   "language": "python",
   "name": "python3"
  },
  "language_info": {
   "codemirror_mode": {
    "name": "ipython",
    "version": 3
   },
   "file_extension": ".py",
   "mimetype": "text/x-python",
   "name": "python",
   "nbconvert_exporter": "python",
   "pygments_lexer": "ipython3",
   "version": "3.7.4"
  }
 },
 "nbformat": 4,
 "nbformat_minor": 2
}
