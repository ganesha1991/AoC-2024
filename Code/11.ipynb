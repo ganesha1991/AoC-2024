{
 "cells": [
  {
   "cell_type": "code",
   "execution_count": null,
   "metadata": {},
   "outputs": [],
   "source": [
    "with open(r\"C:\\Users\\thirggs\\Downloads\\Advent_of_code\\2024\\inputs\\11.txt\") as file:\n",
    "    # open the file, read entire file as string, strip the leading and trailing spaces, split based on space character\n",
    "    stones_og = file.read().strip().split(\" \")\n",
    "    \n",
    "print(stones_og)  \n"
   ]
  },
  {
   "cell_type": "code",
   "execution_count": null,
   "metadata": {},
   "outputs": [],
   "source": [
    "# part 1 solution written as a function \n",
    "# convert the whole list into integers as we are going to deal with numbers\n",
    "stones = [int(x) for x in stones_og]\n",
    "\n",
    "def blink_func(stones, count):  # input the list and count of blinks\n",
    "    for i in range(count):   # iterate count number of times \n",
    "        new_stones = []     # declare the o/p list\n",
    "        for stone in stones:         # loop over the list for each element\n",
    "            # store string version of the number and its length into a variable for easier usage\n",
    "            str_stone = str(stone)\n",
    "            length = len(str_stone)\n",
    "            # check if number is 0 and then make it 1\n",
    "            if stone == 0:\n",
    "                new_stones.append(1)\n",
    "            # if it number is even digits long, split them into two\n",
    "            # using the numbers as integers saves additional processing for the 0 values in second half - multiple zeroes are \n",
    "            # stored as single 0 - since it is integer\n",
    "            elif length %2 == 0:\n",
    "                new_stones.append(int(str_stone[:length // 2]))\n",
    "                new_stones.append(int(str_stone[length //2 :]))\n",
    "                \n",
    "            else:\n",
    "                # else multiply the number by 2024\n",
    "                new_stones.append(stone * 2024)\n",
    "                \n",
    "                \n",
    "        # copyh the o/p to input list for processing again        \n",
    "        stones = new_stones\n",
    "        # print (len(stones), stones)\n",
    "        \n",
    "        # return the length of final list\n",
    "    return len(stones)\n",
    "    \n",
    "    \n",
    "stones_count = blink_func(stones, 25)\n",
    "print(stones_count)"
   ]
  },
  {
   "cell_type": "code",
   "execution_count": null,
   "metadata": {},
   "outputs": [],
   "source": [
    "# part 1 solution without function\n",
    "\n",
    "count = 25\n",
    "stones = [int(x) for x in stones_og]\n",
    "\n",
    "while count != 0:\n",
    "    new_stones =[]\n",
    "    # print(\"start=\", stones)\n",
    "    for stone in stones:\n",
    "        str_stone = str(stone)\n",
    "        if stone == 0:\n",
    "            # print(stone)\n",
    "            a = 1\n",
    "            # print(a)\n",
    "            new_stones.append(a)\n",
    "        elif len(str_stone) % 2 == 0:\n",
    "            x= int(len(str_stone)//2)\n",
    "            # print(\"2\",x,type(x))\n",
    "            new_stones.append(int(str_stone[:x]))\n",
    "            new_stones.append(int(str_stone[x:]))\n",
    "                \n",
    "       \n",
    "        else:\n",
    "            z = stone * 2024\n",
    "            # print(\"3\",z)\n",
    "            new_stones.append(z)\n",
    "       \n",
    "    count -= 1    \n",
    "    stones = new_stones\n",
    "    # print(len(stones),stones)\n",
    "\n",
    "print(len(stones))\n",
    "    # print(\"end:\",stones)"
   ]
  },
  {
   "cell_type": "code",
   "execution_count": null,
   "metadata": {},
   "outputs": [],
   "source": [
    "# part 2 - it needs to be done for 75 times. \n",
    "# solution of part 1 not usable for part 2 as the results are growing exponentially\n",
    "# ?? have to find a way to do it effieciently\n",
    "\n",
    "\n",
    "# interesting solution found in the internet is to use recursive function and cache the results\n",
    "# so, for any given number (stone) for given number of time of processing(blink) - will remain same \\\n",
    "# since the stones never change order or merge or processed together - each individual stones splits or changes by itself\n",
    "# ex. for a stone having number 0 and blinked 3 times - first - 1 , second - 2024 , third - 20 24 - so the count of result is 2\n",
    "# ex. number - 10 for 5 times - first - 1 0, second - 2024 1, third - 20 24 2024, fourth - 2 0 2 4 20 24, \n",
    "# fifth - 4048 1 4048 8096 2 0 2 4 - count of 8 \n",
    "# each stones are processed independent of each other\n",
    "# so, a particular number processesd certain number of times gives a constant result - if we can store them in memory and get \n",
    "# them each time rather than doing the whole list all again. it will save duplicate computations and save processing\n"
   ]
  },
  {
   "cell_type": "code",
   "execution_count": null,
   "metadata": {},
   "outputs": [],
   "source": [
    "# we can build our own memory by storing the number and count in pairs - using dict and store them for reference\n",
    "# quicker thing is to use functools library - using cache fucntion - cache will store the values calculated on  a function\n",
    "\n",
    "# have to try it out later ??????\n",
    "\n"
   ]
  },
  {
   "cell_type": "code",
   "execution_count": null,
   "metadata": {},
   "outputs": [],
   "source": []
  }
 ],
 "metadata": {
  "kernelspec": {
   "display_name": "Python 3",
   "language": "python",
   "name": "python3"
  },
  "language_info": {
   "codemirror_mode": {
    "name": "ipython",
    "version": 3
   },
   "file_extension": ".py",
   "mimetype": "text/x-python",
   "name": "python",
   "nbconvert_exporter": "python",
   "pygments_lexer": "ipython3",
   "version": "3.7.4"
  }
 },
 "nbformat": 4,
 "nbformat_minor": 2
}
