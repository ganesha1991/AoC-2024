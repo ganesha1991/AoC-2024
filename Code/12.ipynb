{
 "cells": [
  {
   "cell_type": "code",
   "execution_count": 121,
   "metadata": {},
   "outputs": [],
   "source": [
    "with open(r\"C:\\Users\\thirggs\\Downloads\\Advent_of_code\\2024\\inputs\\12.txt\") as file:\n",
    "    # open the file, read entire file as string, strip the leading and trailing spaces, split based on space character\n",
    "    map_grid = file.read().strip().split(\"\\n\")"
   ]
  },
  {
   "cell_type": "code",
   "execution_count": 122,
   "metadata": {
    "scrolled": true
   },
   "outputs": [
    {
     "name": "stdout",
     "output_type": "stream",
     "text": [
      "140 140\n"
     ]
    }
   ],
   "source": [
    "rows = len(map_grid)\n",
    "columns = len(map_grid[0])\n",
    "\n",
    "print(rows,columns)\n",
    "# print(map_grid)\n",
    "\n",
    "# here the starting position - is from the top-left most position - so, we start down/right will be the first directions\n",
    "# directions are [1,0] - down, [0,1] - right, [-1,0] - up, [0,-1] - left\n",
    "\n",
    "dd = [[1, 0], [0, 1], [-1, 0], [0, -1]]\n",
    "\n",
    "# directions - offsets - dd[0] = down, dd[1] = right, dd[2] = up, dd[3] = left \n"
   ]
  },
  {
   "cell_type": "code",
   "execution_count": 123,
   "metadata": {
    "scrolled": true
   },
   "outputs": [],
   "source": [
    "# function to check if the particular index value is within given input range\n",
    "\n",
    "def check_within_limits(i,j):\n",
    "    if 0 <= i < rows and 0 <= j < columns:\n",
    "        return True\n",
    "     "
   ]
  },
  {
   "cell_type": "code",
   "execution_count": 139,
   "metadata": {
    "scrolled": false
   },
   "outputs": [
    {
     "name": "stdout",
     "output_type": "stream",
     "text": [
      "['T', [(139, 100)]]\n"
     ]
    }
   ],
   "source": [
    "# To determine the area and perimeter of each plot - first determine the plots within the input\n",
    "# lets take each plot and determine the plant in that plot\n",
    "# check the neighbours of the plot and determine if the plot has same plant - to determine the size of that plot\n",
    "\n",
    "# initialise a set which will be used to store all the checked plots\n",
    "# initialise a list - to store each plant and plot details\n",
    "checked = set()\n",
    "plots = []\n",
    "\n",
    "# iterate over each plot\n",
    "for x in range(rows):\n",
    "    for y in range(columns):\n",
    "        \n",
    "        # check if the plot is already checked\n",
    "        if (x,y) in checked:\n",
    "            continue\n",
    "        \n",
    "        # add the plot coordinates as tuple into a region list - neighbour coordinates of that plot will be this region\n",
    "        region = [(x, y)]\n",
    "        \n",
    "        # get the plant in that plot\n",
    "        plot = map_grid[x][y]\n",
    "        \n",
    "        # add that value into plots list - it will hold the plant in that plot - along with list of coordinates of that plant\n",
    "        # ex. like each element in that list will be plant & the plots with that plant ['D', [(0, 0), (0, 1), (0, 2), (0, 3)]\n",
    "        plots.append([plot, []])\n",
    "        \n",
    "        # iterate until the length of the region in zero\n",
    "        while len(region) > 0:\n",
    "            \n",
    "            # get coordinates from region list into current plot coordinates variables - also remove that from region\n",
    "            curr_x, curr_y = region.pop()\n",
    "            \n",
    "            # check if the current plot is already checked - if already checked - get out of loop(move to next plot)\n",
    "            if (curr_x, curr_y) in checked:\n",
    "                continue\n",
    "                \n",
    "            # check if the current plot is in input - if out of limits - get out of loop \n",
    "            if not check_within_limits(curr_x, curr_y):\n",
    "                continue\n",
    "                \n",
    "            # if the plant in the original plot and the next plot are same or not - if not move out the loop \n",
    "            if plot != map_grid[curr_x][curr_y]:\n",
    "                continue\n",
    "            \n",
    "            # continue if plants within original plot & next plot are same\n",
    "            # add the coordinates into checked set\n",
    "            checked.add((curr_x, curr_y))\n",
    "            \n",
    "            # add that plot into plots list for a plant - under that plant which will be last element in that list\n",
    "            plots[-1][1].append((curr_x, curr_y))\n",
    "           \n",
    "            # move to the next neighbours - add all neighbour coordinates into that region list.\n",
    "            for dx, dy in dd:\n",
    "                next_x, next_y = curr_x + dx, curr_y + dy\n",
    "                region.append((next_x, next_y))\n",
    "          \n",
    "             \n",
    "print(plots[-1])"
   ]
  },
  {
   "cell_type": "code",
   "execution_count": 125,
   "metadata": {},
   "outputs": [],
   "source": [
    "# function to calculate area and perimeter\n",
    "# a plot under plots list - it will have all the coordinates of neighbouring plots containing same plant\n",
    "# area will be length of the list containing the coordinates\n",
    "# perimeter will be to check neighbours of a particular plot -\n",
    "# if the neighbour is out of input range - then it means that is the end of that plant plot -so, it adds to perimeter\n",
    "# if the neighbour is not having same plant - it means the end of that plant plot - so, it also adds to perimeter\n",
    "\n",
    "def calculate_area_perimeter(c, plot):\n",
    "    area = 0\n",
    "    perimeter = 0\n",
    "    \n",
    "    # inputs are plant type in C and the plot will contain list of all neighbouring plots containing the same plant\n",
    "    # ex. ['D', [(0, 0), (0, 1), (0, 2), (0, 3)]\n",
    "    # len of list containing all coordinates - then it will be the area\n",
    "    area = len(plot)\n",
    "    \n",
    "    # iterate over the list of coordinates\n",
    "    for i,j in plot:\n",
    "        # iterate over all 4 directions\n",
    "        for di, dj in dd:\n",
    "            \n",
    "            # next plot coordinates\n",
    "            next_i, next_j = i + di, j + dj\n",
    "            \n",
    "            # if the next coordinates are not within input range - add to perimeter as it is end of plot\n",
    "            if not check_within_limits(next_i, next_j):\n",
    "                perimeter += 1\n",
    "                \n",
    "            # if it is within limit then check the plant in that next plot - if they are not matching then add to perimeter\n",
    "            elif map_grid[next_i][next_j] != map_grid[i][j]:\n",
    "                perimeter += 1\n",
    "    \n",
    "    # return the area and perimeters as a list\n",
    "    return [area, perimeter]\n",
    "    "
   ]
  },
  {
   "cell_type": "code",
   "execution_count": 126,
   "metadata": {},
   "outputs": [],
   "source": [
    "areas = []\n",
    "perimeters =[]\n",
    "\n",
    "# iterate over all the elemnts in the plots list\n",
    "for index,plot in plots:\n",
    "    \n",
    "    # get results list\n",
    "    results = calculate_area_perimeter(index, plot)\n",
    "    \n",
    "    # add area into areas list and perimeter into perimeters list\n",
    "    areas.append(results[0])\n",
    "    perimeters.append(results[1])\n",
    "\n",
    "# print(areas,perimeters)"
   ]
  },
  {
   "cell_type": "code",
   "execution_count": 127,
   "metadata": {},
   "outputs": [],
   "source": [
    "# initialise the cost \n",
    "costs = 0\n",
    "\n",
    "# iterate over the length of areas list\n",
    "for i in range(len(areas)):\n",
    "    \n",
    "    # add over each plots cost - multiply area and perimeter\n",
    "    costs += areas[i] * perimeters[i]"
   ]
  },
  {
   "cell_type": "code",
   "execution_count": 128,
   "metadata": {},
   "outputs": [
    {
     "data": {
      "text/plain": [
       "1533644"
      ]
     },
     "execution_count": 128,
     "metadata": {},
     "output_type": "execute_result"
    }
   ],
   "source": [
    "costs"
   ]
  },
  {
   "cell_type": "code",
   "execution_count": null,
   "metadata": {},
   "outputs": [],
   "source": []
  }
 ],
 "metadata": {
  "kernelspec": {
   "display_name": "Python 3",
   "language": "python",
   "name": "python3"
  },
  "language_info": {
   "codemirror_mode": {
    "name": "ipython",
    "version": 3
   },
   "file_extension": ".py",
   "mimetype": "text/x-python",
   "name": "python",
   "nbconvert_exporter": "python",
   "pygments_lexer": "ipython3",
   "version": "3.7.4"
  }
 },
 "nbformat": 4,
 "nbformat_minor": 2
}
