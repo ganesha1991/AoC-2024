{
 "cells": [
  {
   "cell_type": "code",
   "execution_count": 2,
   "metadata": {},
   "outputs": [],
   "source": [
    "with open(r\"C:\\Users\\thirggs\\Downloads\\Advent_of_code\\2024\\inputs\\12_sample.txt\") as file:\n",
    "    # open the file, read entire file as string, strip the leading and trailing spaces, split based on space character\n",
    "    map_grid = file.read().strip().split(\"\\n\")"
   ]
  },
  {
   "cell_type": "code",
   "execution_count": 5,
   "metadata": {
    "scrolled": true
   },
   "outputs": [
    {
     "name": "stdout",
     "output_type": "stream",
     "text": [
      "4 4\n",
      "['AAAA', 'BBCD', 'BBCC', 'EEEC']\n"
     ]
    }
   ],
   "source": [
    "rows = len(map_grid)\n",
    "columns = len(map_grid[0])\n",
    "\n",
    "print(rows,columns)\n",
    "print(map_grid)\n",
    "\n",
    "# here the starting position - is from the top-left most position - so, we start down/right will be the first directions\n",
    "# directions are [1,0] - down, [0,1] - right, [-1,0] - up, [0,-1] - left\n",
    "\n",
    "dd = [[1, 0], [0, 1], [-1, 0], [0, -1]]\n",
    "\n",
    "# directions - offsets - dd[0] = down, dd[1] = right, dd[2] = up, dd[3] = left \n",
    "down = 0\n",
    "right = 1\n",
    "up = 2\n",
    "left = 3"
   ]
  },
  {
   "cell_type": "code",
   "execution_count": null,
   "metadata": {
    "scrolled": true
   },
   "outputs": [],
   "source": [
    "\n",
    "\n",
    "\n",
    "for i in range(rows):\n",
    "    for j in range(columns):\n",
    "        x_char = map_grid [i][j]\n",
    "        # first check the next char on the right -\n",
    "        dx, dy = dd[right]\n",
    "        \n",
    "        next_i = i + dx\n",
    "        next_j = j + dy\n",
    "        next_x_char = map_grid[next_i][next_j]\n",
    "        \n",
    "        if x_char == next_x_char:\n",
    "            area += 1\n",
    "        else\n",
    "     "
   ]
  },
  {
   "cell_type": "code",
   "execution_count": null,
   "metadata": {
    "scrolled": true
   },
   "outputs": [],
   "source": []
  }
 ],
 "metadata": {
  "kernelspec": {
   "display_name": "Python 3",
   "language": "python",
   "name": "python3"
  },
  "language_info": {
   "codemirror_mode": {
    "name": "ipython",
    "version": 3
   },
   "file_extension": ".py",
   "mimetype": "text/x-python",
   "name": "python",
   "nbconvert_exporter": "python",
   "pygments_lexer": "ipython3",
   "version": "3.7.4"
  }
 },
 "nbformat": 4,
 "nbformat_minor": 2
}
