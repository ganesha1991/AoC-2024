{
 "cells": [
  {
   "cell_type": "code",
   "execution_count": 91,
   "metadata": {},
   "outputs": [],
   "source": [
    "with open(r\"C:\\Users\\thirggs\\Downloads\\Advent_of_code\\2024\\inputs\\13.txt\") as ipdump:\n",
    "    # open the file, read entire file as string, strip the leading and trailing spaces,\n",
    "    # split based on each machine i/p into a list\n",
    "    ip_list = ipdump.read().strip().split(\"\\n\\n\")"
   ]
  },
  {
   "cell_type": "code",
   "execution_count": 92,
   "metadata": {},
   "outputs": [
    {
     "data": {
      "text/plain": [
       "'Button A: X+11, Y+67\\nButton B: X+17, Y+16\\nPrize: X=2413, Y=6293'"
      ]
     },
     "execution_count": 92,
     "metadata": {},
     "output_type": "execute_result"
    }
   ],
   "source": [
    "# each machine i/p will contain input for both buttons a and b and the x and y coordinates of the prize\n",
    "# each machine i/p is a pair of linear equations - pressing a or b - moves the claw in both x and y axis for a certain distance\n",
    "# also we know the end point to reach - we have to find the number of times to press each button\n",
    "# to get this - we need to filter all inputs for a set and get them all into a list  \n",
    "ip_list[0]\n"
   ]
  },
  {
   "cell_type": "code",
   "execution_count": 93,
   "metadata": {},
   "outputs": [
    {
     "name": "stdout",
     "output_type": "stream",
     "text": [
      "320 320\n"
     ]
    }
   ],
   "source": [
    "# import regex for filtering the input numbers and numpy for solving the linear equation\n",
    "import re\n",
    "import numpy as np\n",
    "num_list = [list(map(int,re.findall(r'\\d+', element))) for element in ip_list]\n",
    "print(len(ip_list),len(num_list))"
   ]
  },
  {
   "cell_type": "code",
   "execution_count": 95,
   "metadata": {},
   "outputs": [
    {
     "data": {
      "text/plain": [
       "[11, 67, 17, 16, 2413, 6293]"
      ]
     },
     "execution_count": 95,
     "metadata": {},
     "output_type": "execute_result"
    }
   ],
   "source": [
    "# so for each set in ip_list - Button A: X+11, Y+67\\nButton B: X+17, Y+16\\nPrize: X=2413, Y=6293\n",
    "# corresponding num_list - [11, 67, 17, 16, 2413, 6293]\n",
    "# the equations for this will look like below\n",
    "# for moving claw to 2413 on x axis -> 11a + 17b = 2413 (a and b are number of times Button A and Button B to be pressed)\n",
    "# similarly for y axis -> 67a + 16b = 6293 (a and b are no. of times each button is pressed )\n",
    "# solving these two linear equations will give a and b for this machine.\n",
    "num_list[0]\n",
    "\n",
    "\n",
    "# numpy has linalg.solve - to solve any linear algebra equations to be solved. it takes np.arrays as input\n",
    "# so setup the co-eff and constans and convert them into an array\n"
   ]
  },
  {
   "cell_type": "code",
   "execution_count": 108,
   "metadata": {},
   "outputs": [
    {
     "name": "stdout",
     "output_type": "stream",
     "text": [
      "37901 137\n"
     ]
    }
   ],
   "source": [
    "a = []\n",
    "b = []\n",
    "not_possible = 0\n",
    "\n",
    "# initialise the outputs\n",
    "for i in range(len(num_list)):     # for all machines \n",
    "    # map the co-efficients of x axis and y axis along with the output constants\n",
    "    x_coeff_1 = num_list[i][0]\n",
    "    x_coeff_2 = num_list[i][2]\n",
    "\n",
    "    y_coeff_1 = num_list[i][1]\n",
    "    y_coeff_2 = num_list[i][3]\n",
    "\n",
    "    x_constants = num_list[i][4]\n",
    "    y_constants = num_list[i][5]\n",
    "\n",
    "    # convert the co-efficients into an array and constants into an array\n",
    "    # 11a + 17b = 2413, 67a + 16b = 6293  --> np.array([[11, 67]],[[17, 16]]) & np.array([2413,6293])\n",
    "    # a parameters as a list and b parameters as a list into an array and then constants as a list in a array\n",
    "    co_efficients = np.array([[x_coeff_1,x_coeff_2],[y_coeff_1,y_coeff_2]])\n",
    "    constants = np.array([x_constants,y_constants])\n",
    "    \n",
    "    # solution will be an np.array with both a and b- Ex. array([40.,  7.])\n",
    "    solution = np.linalg.solve(co_efficients, constants)\n",
    "    \n",
    "    # it will contain float (decimal values) as well since number of presses cant be decimal - we have to omit it\n",
    "    # using rounding off for 2 digits after decimal point as a method to filter \n",
    "    # it is because linalg.solve returns several answers like 9.00000000001 or 4.99999999998 - which is 9 and 5\n",
    "    # to include them into our possible answers - we use this rounding as two digits and comparing to int\n",
    "    # any number with 4.000 or 6.9999 in the decimal will make 4.00 and 7.00 integer value and match.\n",
    "    # number like 4.56 or 3.19 will not be passing this check\n",
    "        \n",
    "    if round(solution[0],2) == int(round(solution[0],2)) and round(solution[1],2) == int(round(solution[1],2)):\n",
    "        # append number of presses for A and B in a machine into appropriate lists\n",
    "        a.append(solution[0])\n",
    "        b.append(solution[1])\n",
    "    else:\n",
    "        not_possible += 1 \n",
    "        \n",
    "        \n",
    "# once it is calculated - we can sum up all a presses and multiply by 3 and then add it with sum of b presses to give the value\n",
    "        \n",
    "total_tokens = int(sum(a)) * 3 + int(sum(b))\n",
    "\n",
    "print(total_tokens, not_possible)\n"
   ]
  },
  {
   "cell_type": "code",
   "execution_count": 115,
   "metadata": {},
   "outputs": [
    {
     "name": "stdout",
     "output_type": "stream",
     "text": [
      "77407675412647 183\n"
     ]
    }
   ],
   "source": [
    "# part 2 - solution\n",
    "a = []\n",
    "b = []\n",
    "not_possible = 0\n",
    "offset = 10000000000000\n",
    "\n",
    "# initialise the outputs\n",
    "for i in range(len(num_list)):     # for all machines \n",
    "    # map the co-efficients of x axis and y axis along with the output constants\n",
    "    x_coeff_1 = num_list[i][0]\n",
    "    x_coeff_2 = num_list[i][2]\n",
    "\n",
    "    y_coeff_1 = num_list[i][1]\n",
    "    y_coeff_2 = num_list[i][3]\n",
    "\n",
    "    x_constants = offset + num_list[i][4]\n",
    "    y_constants = offset + num_list[i][5]\n",
    "\n",
    "    # convert the co-efficients into an array and constants into an array\n",
    "    # 11a + 17b = 2413, 67a + 16b = 6293  --> np.array([[11, 67]],[[17, 16]]) & np.array([2413,6293])\n",
    "    # a parameters as a list and b parameters as a list into an array and then constants as a list in a array\n",
    "    co_efficients = np.array([[x_coeff_1,x_coeff_2],[y_coeff_1,y_coeff_2]])\n",
    "    constants = np.array([x_constants,y_constants])\n",
    "    \n",
    "    # solution will be an np.array with both a and b- Ex. array([40.,  7.])\n",
    "    solution = np.linalg.solve(co_efficients, constants)\n",
    "    \n",
    "    # it will contain float (decimal values) as well since number of presses cant be decimal - we have to omit it\n",
    "    # using rounding off for 2 digits after decimal point as a method to filter \n",
    "    # it is because linalg.solve returns several answers like 9.00000000001 or 4.99999999998 - which is 9 and 5\n",
    "    # to include them into our possible answers - we use this rounding as two digits and comparing to int\n",
    "    # any number with 4.000 or 6.9999 in the decimal will make 4.00 and 7.00 integer value and match.\n",
    "    # number like 4.56 or 3.19 will not be passing this check\n",
    "        \n",
    "    if round(solution[0],2) == int(round(solution[0],2)) and round(solution[1],2) == int(round(solution[1],2)):\n",
    "        # append number of presses for A and B in a machine into appropriate lists\n",
    "        a.append(solution[0])\n",
    "        b.append(solution[1])\n",
    "    else:\n",
    "        not_possible += 1 \n",
    "        \n",
    "        \n",
    "# once it is calculated - we can sum up all a presses and multiply by 3 and then add it with sum of b presses to give the value\n",
    "        \n",
    "total_tokens = int(sum(a)) * 3 + int(sum(b))\n",
    "\n",
    "print(total_tokens, not_possible)\n"
   ]
  },
  {
   "cell_type": "code",
   "execution_count": 97,
   "metadata": {},
   "outputs": [
    {
     "data": {
      "text/plain": [
       "array([40.,  7.])"
      ]
     },
     "execution_count": 97,
     "metadata": {},
     "output_type": "execute_result"
    }
   ],
   "source": [
    "solution"
   ]
  },
  {
   "cell_type": "code",
   "execution_count": 106,
   "metadata": {},
   "outputs": [
    {
     "name": "stdout",
     "output_type": "stream",
     "text": [
      "[2.44, 2.32, 5.0, 7.0, 7.01] [2, 2, 5, 7, 7]\n"
     ]
    }
   ],
   "source": [
    "test = [2.4356, 2.323214, 5.0012, 6.9999, 7.012]\n",
    "\n",
    "test_rd = [round(test,2) for test in test]\n",
    "\n",
    "test_rd_int = [int(test) for test in test_rd]\n",
    "\n",
    "print(test_rd, test_rd_int)\n",
    "\n"
   ]
  },
  {
   "cell_type": "code",
   "execution_count": 105,
   "metadata": {},
   "outputs": [
    {
     "data": {
      "text/plain": [
       "False"
      ]
     },
     "execution_count": 105,
     "metadata": {},
     "output_type": "execute_result"
    }
   ],
   "source": [
    "6.99 == 6"
   ]
  },
  {
   "cell_type": "code",
   "execution_count": null,
   "metadata": {},
   "outputs": [],
   "source": []
  }
 ],
 "metadata": {
  "kernelspec": {
   "display_name": "Python 3",
   "language": "python",
   "name": "python3"
  },
  "language_info": {
   "codemirror_mode": {
    "name": "ipython",
    "version": 3
   },
   "file_extension": ".py",
   "mimetype": "text/x-python",
   "name": "python",
   "nbconvert_exporter": "python",
   "pygments_lexer": "ipython3",
   "version": "3.7.4"
  }
 },
 "nbformat": 4,
 "nbformat_minor": 2
}
