{
 "cells": [
  {
   "cell_type": "code",
   "execution_count": 31,
   "metadata": {},
   "outputs": [],
   "source": [
    "# with open(r\"C:\\Users\\thirggs\\Downloads\\Advent_of_code\\2024\\inputs\\14.txt\") as map_dump: # location in intranet\n",
    "\n",
    "\n",
    "with open(r\"C:\\Users\\sgane\\AoC\\Inputs\\14.txt\") as ip_dump: # location in my own machine\n",
    "\n",
    "# with open(r\"C:\\Users\\sgane\\AoC\\Inputs\\sample.txt\") as ip_dump:\n",
    "    # open the file, read entire file as string, strip the leading and trailing spaces, split based on newline character\n",
    "    robots_ip = ip_dump.read().strip().split(\"\\n\")"
   ]
  },
  {
   "cell_type": "code",
   "execution_count": 32,
   "metadata": {},
   "outputs": [
    {
     "name": "stdout",
     "output_type": "stream",
     "text": [
      "500 500 500\n"
     ]
    }
   ],
   "source": [
    "positions = []\n",
    "velocity = []\n",
    "\n",
    "# extract positions and velocities of all robots into an individual list \n",
    "for i in range(len(robots_ip)):\n",
    "    parts = robots_ip[i].split(\" \") # split pos and velocity into two elements of list parts p=0,4 & v=3,-3\n",
    "    # Slice the value from 3rd character of element - split them by , and get individual numbers -make them as integers\n",
    "    pos_tuple = (int(parts[0][2:].split(',')[0]), int(parts[0][2:].split(',')[1]))\n",
    "    vel_tuple = (int(parts[1][2:].split(',')[0]), int(parts[1][2:].split(',')[1]))\n",
    "\n",
    "    positions.append(pos_tuple)\n",
    "    velocity.append(vel_tuple)\n",
    "\n",
    "print(len(robots_ip), len(velocity), len(positions))\n",
    "\n"
   ]
  },
  {
   "cell_type": "code",
   "execution_count": 33,
   "metadata": {},
   "outputs": [
    {
     "name": "stdout",
     "output_type": "stream",
     "text": [
      "103 101 00000000000000000000000000000000000000000000000000000000000000000000000000000000000000000000000000000\n"
     ]
    }
   ],
   "source": [
    "rows = 103\n",
    "columns = 101\n",
    "\n",
    "# initialise the grid with zeros\n",
    "# each row will be zeros pushed across all columns\n",
    "row = \"0\" * columns\n",
    "\n",
    "grid = [row for i in range(rows)]\n",
    "\n",
    "print(len(grid), len(grid[0]), grid[0])"
   ]
  },
  {
   "cell_type": "code",
   "execution_count": 34,
   "metadata": {},
   "outputs": [],
   "source": [
    "def move_robot(pos, velocity, no_of_seconds):\n",
    "    curr_pos_y, curr_pos_x = pos\n",
    "    vel_y, vel_x = velocity\n",
    "\n",
    "    for x in range(no_of_seconds):\n",
    "        new_pos_x = (curr_pos_x + vel_x) % rows\n",
    "        new_pos_y = (curr_pos_y + vel_y) % columns\n",
    "\n",
    "        curr_pos_x = new_pos_x\n",
    "        curr_pos_y = new_pos_y\n",
    "        # print(curr_pos_x,curr_pos_y)\n",
    "    return (curr_pos_x, curr_pos_y)"
   ]
  },
  {
   "cell_type": "code",
   "execution_count": 35,
   "metadata": {},
   "outputs": [],
   "source": [
    "def no_of_robots(quadrant):\n",
    "    sum = 0\n",
    "    for row in quadrant:\n",
    "        for character in row:\n",
    "            sum += int(character)\n",
    "\n",
    "    return sum"
   ]
  },
  {
   "cell_type": "code",
   "execution_count": 36,
   "metadata": {},
   "outputs": [],
   "source": [
    "seconds = 100\n",
    "# print(grid)\n",
    "for a in range(len(robots_ip)):\n",
    "    new__position = move_robot(positions[a], velocity[a], seconds)\n",
    "    # print(positions[a], velocity[a],new__position)\n",
    "    x,y = new__position\n",
    "    row = grid[x]\n",
    "    current_value = int(row[y])\n",
    "    new_value = str(current_value + 1)\n",
    "    grid[x] = row[:y] + new_value + row[y+1:]\n",
    "\n",
    "\n",
    "# print(grid)"
   ]
  },
  {
   "cell_type": "code",
   "execution_count": 37,
   "metadata": {},
   "outputs": [],
   "source": [
    "# split them into quadrants and find the safety factor\n",
    "\n",
    "middle_row = rows // 2\n",
    "middle_col = columns // 2\n",
    "\n",
    "\n",
    "# used \"columns-middle_col\" & \"rows-middle_row\" - to eliminate middle rows/columns if rows and columns are odd\n",
    "# if it is not used, a grid of size 5*7 will have 4 quadrants like 2*3, 2*4, 3*3, 3*4\n",
    "# using this will result in equal sized quadrants of 2*3 - removing one middle row and column.(as given in example)\n",
    "# Split grid top-down at middle_row - for each row in top half - with :middle_col get the left half of entires\n",
    "Q1 = [row[:middle_col] for row in grid[:middle_row]] # top left\n",
    "# Split grid top-down at middle_row - for each row in top half - with middle_col: get the right half of entires \n",
    "Q2 = [row[(columns-middle_col):] for row in grid[:middle_row]] # top right\n",
    "# Split grid top-down at middle_row- for each row in bottom half - with :middle_col get the left half of entires\n",
    "Q3 = [row[:middle_col] for row in grid[(rows-middle_row):]] # bottom left\n",
    "# Split grid top-down at middle_row- for each row in bottom half - with middle_col: get the right half of entires \n",
    "Q4 = [row[(columns-middle_col):] for row in grid[(rows-middle_row):]] # bottom right\n",
    "\n",
    "\n",
    "nQ1 = no_of_robots(Q1)\n",
    "nQ2 = no_of_robots(Q2)\n",
    "nQ3 = no_of_robots(Q3)\n",
    "nQ4 = no_of_robots(Q4)"
   ]
  },
  {
   "cell_type": "code",
   "execution_count": 38,
   "metadata": {},
   "outputs": [
    {
     "name": "stdout",
     "output_type": "stream",
     "text": [
      "123 129 115 123\n"
     ]
    }
   ],
   "source": [
    "print(nQ1,nQ2,nQ3,nQ4)\n"
   ]
  },
  {
   "cell_type": "code",
   "execution_count": 39,
   "metadata": {},
   "outputs": [
    {
     "name": "stdout",
     "output_type": "stream",
     "text": [
      "224438715\n"
     ]
    }
   ],
   "source": [
    "safety_factor = nQ1 * nQ2 * nQ3 * nQ4 \n",
    "\n",
    "print(safety_factor)"
   ]
  }
 ],
 "metadata": {
  "kernelspec": {
   "display_name": "Python 3",
   "language": "python",
   "name": "python3"
  },
  "language_info": {
   "codemirror_mode": {
    "name": "ipython",
    "version": 3
   },
   "file_extension": ".py",
   "mimetype": "text/x-python",
   "name": "python",
   "nbconvert_exporter": "python",
   "pygments_lexer": "ipython3",
   "version": "3.12.8"
  }
 },
 "nbformat": 4,
 "nbformat_minor": 2
}
