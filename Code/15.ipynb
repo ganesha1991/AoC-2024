{
 "cells": [
  {
   "cell_type": "code",
   "execution_count": 152,
   "metadata": {},
   "outputs": [],
   "source": [
    "# with open(r\"C:\\Users\\thirggs\\Downloads\\Advent_of_code\\2024\\inputs\\sample.txt\") as file:\n",
    "\n",
    "with open(r\"C:\\Users\\sgane\\AoC\\Inputs\\15.txt\") as file:\n",
    "    # open the file, read entire file as string, strip the leading and trailing spaces, split based on double line char\n",
    "    ip_dump = file.read().strip().split(\"\\n\\n\")"
   ]
  },
  {
   "cell_type": "code",
   "execution_count": 153,
   "metadata": {},
   "outputs": [
    {
     "name": "stdout",
     "output_type": "stream",
     "text": [
      "50 50\n",
      "<>>^>vv^^<v^>^>^v>>>^<vvv>^><<<<v>vv^>>v><^v>><vv>v>v>>^^><>^^^^^^<<<^>v<<><>^<<v^>v>><^^<vv^>^v>^>><>^v>^>>^><^^v><v<v<^>v^<>vv>v^v^^^>>vvv<^v>v^<^v><^v>^>^vv>>>vvvv>^<v^vv^v^>^>v>v^>^v<v>^<><><<<>v>><<>>>^v>>><v<>>>^<^>^<<><v^<v>vv>v^<^v^v^<<^^^>^><v<<<^^<v>^^^^>^>v^^^><^<v>^>^>>vv>>^v>>><>v>^<>^^v^<v>^><>^^>v^^<>>><vv^>^v<<<>^<^^<^v^<^^<v>>><v>>^^<^v<^^>v<>v<^v>>>v>><<v^>^<>>>^<v>>>^^v<v<>>^<<v^vv>^>v<v><v^<v><<<<v<^v^>v^<^v>vv^<><<<^><v>>v><^^>v<<vv^^^vvv<<<>>^^<>>>^>^^<><>>vv>v^>v^^>>^>^<<^>^>v>^<>>^^<><v^v<vv^>v<v<<<^>>v^<^^<>v>><<<^>^^<^v>^v^^vvv<^>^>>v<<<^>v><vv<^^<v^><>>>^^v><^v<vv<^>>>v<<v<vv^vvv^><<^<v<<<^<vvvv>v^v>^^v><>^>vv<>>v<vv^>><v>>v^><><^v^^<<^vvv>^><<><>>>^<<^<^<<^<>>^>>v>vvv>v^>>v<^v^<<^>^>^<^<>>^^><<v<<^^<<>v<><>><><>><>v<^^v>^^v>v><v>v^^v<>v>v<<^v<v><v<<<>v><v<vv>>^><><^v>>v>vv<<>^^^^^^^v^>>>>^<^^>>^^<^^>>^>v^<>^vv^<^>>^>v><^^<>vv<><v^v<>^^^^^>^>>v^>>>>^vv>>^>^<<<<>^><v>v^^vv<<<<^vvv^<^^>vv>v>v^v^<v>^v>^v^>>vv<>^<^v><><vv>v<><v>^v^<>v<<^>v><<>vv<>v>>>v><<^^<^v>^><v^>>^>>^v^^v^>v<v>^v><v>>^^vv^>>v^v^><<^v^^<<^>^v<^>>^<^^>><<^<^^^vv^<^>vv<v<^^<^v^<^>vv>><>^^^<v<vv<^^v^^<^vv><^v^<><vv>v><^<^^>><^v>^v<<>>>v<^^v>vvvv^v^v<>^<^^v<v<<<^>>^v<>>>>v<v^<>>^v^v^^^^^><<^v^>^<v><>>>v>>v><v<>^^v<<>v<<<<vv^^<v^<^^v^<><^v<v^>v>^^<<^v>^^><^><^^^v^^<>>><v^<<>vv^v^<<>v>^vv><vv>^v>v>>>>v<<v>>^^<^>>^vv>v<<<><><<^<<v<<<<v<>^^<v<<^^^^^v>v<^^v>>v<<v^v>>^v<<vv><><<>v<<><^<v^><vv^<>v<><v<vvv<>^v>^^^>v>^<>^^>vv^>^v>v<>^vvv><>^><<<<^^<^^^<>^>^^^^<>vv>>^<^>^vv^^^v<<^<^<^vv<vv^^^^^<^<^>^>^v^^^<^>v><>>>>^v<>v^v<<<<>v>^^<^v<v><^<>v<^<<>>^>^<<vvvv<<^v<^v>^v^<<^><<>vv>><^<^^vv<^>>^^><<<>v^^^vvv^<>^<^^^>v>^><v^>><<>>><v>v<^^^<<vvvvvv^vv<>><v><vv^>>>>^v<v><v<>v>^><<<<^>><v>^v^>v<>^><v><^^<>>><^^<<<<vv<^>>>^v<v^^v^v<v<><<v^<<v^<v^<^<^<vv>^v^v>><v>><v^vv<<v^^><><<v^v<^<v><<>><^<<><v<v>v<v<v^>v^^^>^^^^v>^>><^^<vv^<>v>vv^^<v^v<v<vv>><>^<^>v^v^^>^<^>><vvvv><<v^^^^<v<<v^^^^v<>>v<^<^>><<<<vv>^^>>vv^<>^>^><<v><<<^<<v^>^><<<<>><><v<^v^<^^<v<v<>vv><^<^^v><v<^v>^^^v>^>^<<^<vv>>><v^vv<^>>^^<<<v<v>><v^vv^v<>^^v<^^<<v^^v<>>vv>^>^^>>v<v^<v<^v<v^v>>>^^<>^>^<<v^^<>vv<vv><^<<^vv>v^v^^<><vvv<^^v>^v<<><>^>>^>^>^v><<v<vv<v><<vv>^^<^<v^v^<vv^vv<v<^^^^<v<<^<<>>>><<<v<vv<<^<v^>v<>^vv>v><<<>vv^>^v<<><>>^>vvv<^v>vv^>><v>^^><^^v<>v<^<v<^vv^<^vv>>><v^v^>^vvvvv^v^^<^><^vv><>v>v<<v<^v<vvvvvv^vvv>>vvv^^<v>><<<><v>^^v<<>>vv<^>v>>vv>>><<>^<<<<^><>v><<>v><>v^>^^><<>><vvv<v>vv^><<>^^>^<^<v>^>v<^<<>v<>vvv<<<<>^vv><>^^^>v><v>^v^<^<^>^><v^<v<^>^>><v<v<v^<v<v><<v>vv^<vv>^<^<<><<vv>vv<<<<vv<v<^^><^vv^^^vv^^>^^>^<>^vv^<<v>v<^><v<v^vv^<^<v>v><<<><^>^<><<^<<<v<><^^^^vv>v<v<>vv^^>><>><vv^^v>v<vv<^<>v>v<v<^>^v>>^<<>^<>v><^v^>v>>>^v<v>vv>^^^<^^<^>^<<<^^>v><v<v>>><<<<^<vv<v<>v><v^^v<^vv>^v<><^v<<<^>^vv^^>^^^>vvv^>>^<^^>v<<<^<<^^<<^>>>^<><><<<<><^^^<<<>>>^>v^>>v^<<<v>v>>^><>>>^^><<<<v^>vvv<>v<v^><<<<<><vv^v<v^v^^>>>>v^v^><^><<^<>v><<>>><^<vvvv^<^^v^>><v^v><^<<<>vv^<^^>>>^><^><<<v<^vvv^vv<>v><>><vv>^<^>^<^^^v<>^<v>^<>v<>>^<^^v>vv^vv^^>^><><^v>^<^^><v^<^><v<^<>><^v>^<>^v<<<<<^<<<>^<^<v^<^^v<<vv<v<<<>^v^v>^vv^^v^v<>><<^v><<<>^<^^><<^>>v^v<^v^><<<v>^vv<v>vv>^<v<<v<^>>>^^v^v^<<v<>v>vvv>>^^^<>^<v^vv^vv^vv>>>>v>>v^^v>vvv>^v^^^>^>>^<<<>^<<^<v^>v<><v<^><>^v<^<v^v><v^<^^><^vv^<^v^<^><><^<><>v<^<>>v^><<v<>^vv<>^>>^^<><<v^^<>^<v<v<^>><^vv<<<v<v>^<<>v<^^>>vv<v^^^vv^^><>>^>v<^v><^^^<^vv^vv<<<^<<><^v<^vv^>>>>vv>^vv>>^>^^<^v^v<><v^>v>vv^v><^v>>v^^<^<>>v<<<vv<v^<<>v>><>>^v^<v<><^v^<><>>><v>>v>>vvv<>vv>^>^^>v<<vv><^v<<><v<^>^<v>>^<v<>>>^^<^v<^<<<^<v>v^vv<^<>v<v<^>v>^><^^v^>^^v<>v^><v<<>^^vvv<^^^^v^^v^>vv^><<^^vvvv^^^v<^>>><<v<<v>v><<<^^vvvv<>>vv^<^>v>^vvvv^v^<<^>v<^<^<v^>v^^vv^^<vvv^><v>><v<v^v><vvvvv<>^vv><^vv>>>v>vv>>>vv^^^>><<v>>v>><>v<><vvv><>^^v<<v>v^><^^^^v<<v<vv>><<^<^^v^<<^>^v^>^<><<v^v^^v>^><v^^v>v><^v^<<><>v<<v>v>^<vv<>>>v<^><^v<^^>^v>><vv>>v<<v><^>>^<^<^>>vvvv^<>vv^v^v>vvvv>v^>^vv^^<<><v^>vvv<>>vvv^vv^<^v<^>v<vv>^<<v><^vv^<<<^v<>v<^v<><<vv^<v>v^<><<^^^v<<<><v^<><v<>^^v>v^vv>v><v>>vv>>^v><^<v<v^<v<^><v^<>>>^>^>vv<v>v^vv^>vvvv>v^<>>>^>^vv>v^<><^>>>^^>><<<v<^^<<>>^>><^v>^<<>v^v^^>><^^v^<^<^<v^v<>v<><^>^v>>^^v><>^>vvv<v^^^vv<<v^^^>v^v><v<v>^^vvv>>>v<>><v>^^<^^^vv>><>v>v^<v^vv^>^v>^v><vvvvvvv<<<<^v<^^^v^>^vvv^^>>v<^<vv^<<>^<v>>^<>^<>v^><><v><>vv>^v^^^<^>>>v<^<^<<<v<>>>^v<v^>v<v^^><><><v><^>>^><^v<^<v><>^><>^v<v<v^v<v^^>v^>^<^<>><v<v<^<^>vv<v^^^^<<>vv<^v^v<v>>^v<>><^<<^^^^<v^>^v>><^vv^>^<^^vv>^>^<v>>^<^><><v>v<vv^<^<^v>>^>><^<>><>^<^<^^>^<v^>^<<^v<>v<<<>^><^^>v>><^^<^^<v^vv<v<^<<^^<<<v^^<v>^^v<<^v<<<>^<>>v><v>^<v<>^>^vvv>><>^>v><^<v<><^v^v^^vv>>^<<^<^v<>^vvv>v<^vv<^^v<^v><>><<>>^>v<>v>>v^<><<>^<<^v<>^vv<><>^vvv>v<v<^>^>^vv>>^<>v><^^^^<>v<<vv<<^v<v<>>>v^><>><^<<>v<^v>^v<<^v>v^><>^>^vv>vv>>^v<<v^^^>^<<>>>>>^>vv><^v^<vvv><>v^>><v^^v^^<>v^^<<^^v^>>v^^>v^v<<<>^>><v>v><<v<^><>>v>^^vv^>>v^>v^vvv^^vv<><>>v^^^<<vv^vv^<<>vv<>>>>^v^v^v>>vv<<<>^>v<<>><><<vvv<^<>v>v^<v^^^^vvvvv>><^^>>><^>^vv><^<<vvv^<><^<><>v<vv>>>><>vv<<^>v><<v>^<>^^v>v>v><^^><v^^<>v<>^>^<>vv>>v<>v>^v>>>v<><>^<^v^^<>^>v>v^^>v<<>vv>^v>vv>^<>v>^v<>^><>v<>>><vv<^v<>v><><v<^^^>^^^^v<>vvv^<vv>>^^^>^<vvv>>v<<<<^^>vvvvvvv<v<<>^^<>>v<><v<>><v>^v^^>><<>v<v>^<<vv<<vv<^>^<v^>v>v<vvv>^vv<<^><^>^v<v>vv><^>^>v^<^v^^>>v<<^<<v>>v>>v><><<^<^v<^^v<<<v^>>^<>^^^>>v<v^<^<^^^vvv>v><<^<v>^^>>>>>^><^^>v^<v^>v^^^^^>>>><vv^>v^<><^vv<^^^^^>>^<^^^<<^<v<^vv^<><>^><v>^v<v^vvvv<v<vv<v<v<>v>^^<^^>v<<>v><<>^<>>>>^v>vv^<^v^>v^^v^^v<^^<^^>>v<<<<^^^<v<^vv<^v<v<^>><<>^v^<^<<v>^><^^^v>>>><^<<v^^><^^><^v<^<>^v^<>>v<<v>><<^v<>^<^v^v^<^<><^<>>^>><>^><vv>v<>>>v^v>^>^><vvvvvvv><vv^v^<^>>^>vv^vv<v<<<>>^<^v>>>v<><v<v<>>v>vv<><><><v>^<<<^vv<vv><vv<^v<^>>>vv^v<vv<<<>><v>^><<^vv^^<>vv>^>vv<^v^v>^>^^<<<>^>v>>>^^^v><>^<>^>><vv^<<>^>^v<^>>><>>><^^^vvvv><vv<>>^v<<<^<vv<<^<<^v>^>><<^<v>^v>><><>^<<>v<><>>><vv<^v<v>>vvv><>^<<<^<^v<^^^>v>v>^v>>^<<vv<>>^>v^>>>v>>>^<<<^<v<^vv^>>^^v<^^^^<<>vv<<<v<<v^<>>>^v>><>v>>v^^^<vv>>><<<<<><v><>vv<><v>>v<^vv<>v<vv^v^vv^>>>v>v<<^<^>v<^^<^^vv><^^<<<v>^>^v<vv^>^^<<v^v^^>^^<^^v<^<^^<^>>^vvv>^^v<v>><>^>>^<>^>><<v>vv^<>vv<vv><v^<^vv^<>>v^<^v^<^<v<>>^<v>^v>v>>^>vv^v<<><v<v^<>>>>^^<v><><v>>v<>>>><><>^v^>>>v^<<^<^^vv><><<<^v^<<v>v><vv^vv><^v<^<v>vv<v<v<v<v>>^>^^v^<>vv^vvv<v^<<<><^<<^<>><<v<^>>><vv^^>v^<<^>vvvv<<^vv<^^>v>>>^^^>v<>^v<vv<>v<^^vv^^<>^v<>><vv>>vv<>v^<><vv<^^>v^^v><v<^vv>><v^^>>v<<>vv^<^vv^<v>v>vv<>^v<v><<^v^>^^>>v^v<v>>^^>^^>v^^vvv>>^<<vv>v<v><v<^>>^v^<>v<>^>^<<>^<vv^>^^v<<><<^<^<>v<><^^^<v<<<<vv^<>>^^<v<v>^<v<>vv<><v^<^>^>v<v<<v><v^^>v<^>^>>^>^<^^>v^v^v^>^<v^>v<>><<^^>>v>^v^<v<v^<>>>^vvvv^^>vv^v>v<v<<<^<>v^^>^vv<^v^v^><^>>>>>>v^v><>^>><v^^^<v^>>^>>>v^><<vv><<>>v>v<^>>v^<>^v>v^<vv^<v^^<>>v^v<^vv<^v<^v>>^v^<>v<v<<<>^<vv>^<<<<^^>^v^v>vvv^^>v>^>^<><><>^^^v^>v><<<>vv>v^v<v^v<<>v>vv<>>v<v><v<v^^><>>>>>>^>>>v<^>^v><<^vv<v<<^^v>v^v<^<<<^>><^v^v>>v><vv<>>v>>v>v>>^^^>^<^<^>^><<>^v<>^>vv^v^><v^<<v<v<<vv^>>vv><>><^vv>^^v>^v>^<^^><v^^<<<^<^>>^v^<v>v^<><vv<v<<vv>>>^<<^<<>><^<vv<><^>>v<>vv^v<^^<^^>>><^><<v^>v<>>^<^<^<^>>>^v^^<><<vv>v<>vv<><^v^v>><^^>vv^<^^^>^v^<^<vv<vv><v<>^>vv>^^<^>^<v>vv<^>v<>v<v^<^<vv<v<<<>^<<v^v<<<^>>^^<<v>>vvvv^^v<<>><v^^<vvvv>v<v<^>>>^><<^>><>v<^>>^v^<v<<v^^<^>>>^^v<v^>v^^v<v^vvv<vv>^<v><>>^<<><>^v<^<v^v>><>v^><^<v^><<v<><<><>v<^<<<<><vv>^^><><^<<v<>^<^>><^^<^^^v^<>><^^vvv>v>>>v^^<<^<<>^^^vvvv^^<v<v^v>>><^v<>v<^v><^<v^v<<>vv<>vv<<>^>v>v<>^vv<<<<<v<<<>^^>v<>>^<^>^<v<>vvv>>^>vv<v^v>^^vvv<v<^^>>>><>vvv><>>^><vvv>v><>^v>>^>v^v>^>>^v<><^^><v>^><>^<<<<^v>v^>^<^v>>^^^^>><><<>><^<^<><<^>>^^<>^v<>^><^^<<^>><v^vv<^<v^>^v<>>v^<^^v<>^><^v<vvv><>v>^<<<^<<<^^<v<vv><^v>v>^v>>>^v>><<>v>^>^<<^<<v^>v^><^<^v<^v<><<>>vv>^^>v>v<><<^v<>v<^^<v>v^vv<<vv<<<<v^<^>vvv<^v>^<>v^v>vv>vv^><<vv<<<^vv^v><><v<v><>^v>v^v>vv>>vv<<vv>^>^^^v>^vvv^v^v<<<v^^^v>>^<><><>v<v<<>^v><v>><>^>^<<v^v<v>>v<v>v^>v>>v^>^v^>><^vvv>><^v^<><<vvv^<^<>^<><><>v>v^^<vv^^^>^<<<v>^>^<<vv>>>^<<^^<>^v>^^vv><>^^<v>><>>><^v>>^><v>v<<^v^<^^<>^<v<v>vv^<v>^v^>v>><^^^vv><<>><>>>>><<><^^>v<<>>v<v<vvv^<>v>^>^vv^<^v<<vv^<<<^^>>><<^<>^><^vv>^>v>v>^v>>v^<>>v>^^v<v>^v>><>v>v<^><^>^v><>^>>v^>v^v<^^v^>>^<v>v^<<^v<v<>^v<<vvv<<v<v^><vv^<><<v><<<vv<v>>^>>^^>^<^<><>>^^v>>v>>v>^v^vv<><^>>^>>^^^>><v^v^<<>>>v^vv<<v^<v<>>><<<>v><^vv><v^<>^v<>v<vv<>>^>v^<>>^v<^<vv<vv^^^v>>>v<v^>v^v<>>^>^>^>^^<<^^>v>vv<^<^>v>>^^<^^^^v<v^^<^v^^^v^>>^<<^<^vv>^vv<v^<vv^^><^^><vv^v>>>v^><<>^^v^>^>v>^^><<v>^<v>>^^^<<^vv>>^v>>v^v>>><^><v<^<^>>>^^^<^<v<v>^<v>^^>vvv^v>^v><vvv<>^<<^<v>vv>><^^^^>vv>><^v><<^^<^^><>><<>><><<^^>^^>^<^v^vv>^^v^^<<^^^>v>>v>>^vv<^<v>v<vv<<^>^^<^^<v^>>^^<>v^<^^>v>^<^><^v<>vv^>>^>>^v>>>^>^v>v>v<^>^><vv^<^>^<^v^v>vvv<^<>v<<><v^^vv^^<^<<vv^<^^^^>^>^^<><<>^v>vv>^^v^^^<>^^v<v<<>>v>^^>v<^vvvvv>v>vv^^>>^<v<<>v^><^^>>^>>^v^<<^^^vv>>><>v<><>^>^^<v<^>^<<^v^>>v<^^>v>^^^^><^^v><v><vv^<^<<v<>>vv<>vv^^<v>^>>^>^<<v<<^>v<v^v^^^<>>vv^>><>^v><>v>v<<v>^>v<<vv>>^<^<<^>v<>^^>^vvv>>vv^v<v>^^>^^><^><><<v<v>^^<<v<><<>v>^^vvvvv^v^<v>>v>>>>><><^^>>v>vv<v^<<>>>vv<^<v>^<>^vv^vv>^v<>^>^v<^>^vv>^><<>>^>v<^>><^v<^^^^^<><v>v><v<>^v>v>^^<^>v>^v>vv^>>v<vv><>^<vv>vv<v><<v>^v^>vv>v^<>v<v<v>>^<^vv<>^><>>vv>^<>vv^^>v><vv>^<><>^v^<<><<vv><vvvv^v<><>v^^<^vvv^^<^>^<^>^v^v><v<vv>vv^^^<^^v^^v>v^<^<v><>^<^<^^>v>^v>>v>>^v^^>v>v>^<v>^<^<>v<<<<<v^<^>^^vv^^vv><><>>>>><<^v>>v<<v<<vv^<v><vv<>v>>>vvv<v^<<>>^^^^v<^<<v<v^>^>^v>^>^^v><^><<^^<><<^v^v^vv<<<v^<vv><<^^^^>>^>^<vv^^v>v<<^v<vv>^^v<<^vv>><<>>v<<<>v^>vv>v>><^>v<^<>>v>v^^v<<vv^v>>^<^v^^><>>>>><^<^v^^<v>>v<>v<>^v^>^^><^v>^>v>><^>>^<>vv^^^>^><^<^v<^<^<v^v^v^>><^<^<v^<^^^>^>>^>^<>^>><>^>^>>>>vv><>v^>^^>><v<>>>^>v<>v^<vvv>^<>v>vv^^>vvv<^>^v>^^><v^>vv<<^<<<<v<>^^^v<v>vv<>v>^>v<<>^^^^<>^v^v>v>^>^><>vv^>^^<<>>vv<vv^^><^<<<v>^v^>^<>^<><>>^<v<vv>^v^<<^v>>^>>^><v^v<vvv><^<vv<v>^<^vvv><^vv>^v^<v>>v>^^<v<^<<<^v<>v^^<>^>>>v^^^>vv^v>>v^>^>^<^v><<><v<>v>>^<v^<^<>^v^^v<<v>>^vv<<<^<>v<^>v<^<^vv<>>v>^^^<>>^v><<v^^^>^v^>><>>><<<<>vv><v><>vv^>^>^vv<<<v>v>>vv^><>^>v^v<^><><><>v<<v<>>^v<>vv^>v^<^>^>vvv^<<<v^<><^^>>>>>v>^<>v>^<<^>>>v^v>v<^v^>v<>>vv<<^>v^<^><vv^^>v^v<^<<v>><v<v^<^^<v^>>vv<<^v<vv>^<><v^v^v>v>v<v^v<v^<v^^>><>^^<vvv^<^v>>^^v^><^>><<^^>><^<v^>^v<^>^<^<^v^<v^^<vv>^vvv<^>^^v<<>v<v^<><^^^<><>>v^^v^<<><^>>v>v<<<>^<^>v^^<>^<vv^<<^<<^<^^<<>v<^^>>v^v^v^>v<v<><<>>>><v^v<^v<^<<<vv<<>v<v><>vv><v><vvv^v^^><<^v<<><^vvv^v^^><>>^><>^vv>>^<>><v><<<v>v<<<vv><^^<^^^^vv<<v^>^<^^>>v>^>v^^<><v>v<v><v<<v^vv<v>vvv>>^<<<<>v<<><>^>^v><^^><^>vv>>^^^<<>>^>><^^>vvv><<>v>v>>^v<^^><<v>v^vv^v^<^>^>^<v^<vvv^v<^v^>^v<^^^<^>v>^><>v<<>^^>><^<v><^>>>>v<v>vvvvv^^v>^>v^^<^<v>^^^^^vv<<<v^^^vv^<>^<^<^v<vv>^>vvvv><v<<vv<v>v><<v>>^><><^vv>vv^v<<<<v<<<>v>v<>^^<^<>v^v<^>v^>v^<>^^<<^<<v>v^<^><<<^^vv<<v<<>vv>v><>>><^<<<^v>v^>>^^v<^^^>>>^<^^^^<^^vvv^<^>v>^<><>v><<vv<^^>^>^<^<^v>^v>>><>^<<^<><^^<vv<^<><^^<^<v^<<<^^^v<^<v<><^^<^<>v<>>>^^^v^^<^^><vvvv^^v<<<^><^^v<<<vv<v^<<^<v^<^<<^v>v><>>v>v>^<v^^^v<^^<^^<<<>v<v>><^<><<vv>^<^>^v<v^vv>><>^v^^^^v^<><v^>^<>^<^>vv><>v^^><v>>v<<<>vv<<<vv<><^^>>v^>v^<<<<<<><^><<^^^<>><>^<vv><><^v^vv><><v<><<><^>v<<^>v^v>v^vv<v^v>^>^>><^^^v^v^>^<><^^>v>vv<<<vvv^v>>vv<<><>><>>>>^<v>>>><>>vvv<v<<>v><^<^<v<<vv>>v<^v^v>v<vvv^^^>>^v^^>>^^vv<>^vv^<vv>>v<>^>>^^^<v<<vvv<<v^v^>^^^>v>>>^vvv>vv<^<^^^>>vv^>v^>>>^<<<^v<><>^>v^^v>>><vv>>><v^<>^v>>^>^<^v^^>vvv^^vvvvv<^>>^^<vv<>^<vvv<^>^>vv<v^>^>^^<^v<vv<<><>vv<<^^vvvvv^^<^<>v>vv<>vv>>v<vvvv<vvvv>^><^>vvv>>^<^<<vv>^v<^^<<v^^<^<<<^v>^^^<^vv><><v<^>^^^><v^^>v^^v<^^^v<<^<^^vv>>^>><^>^^^><vv^vv<>^^>vv>v<^v>^<>><>^>>v<^^>v^v<>v>^vv>>>v<<vv>v^<v>v>>><^^><<<><^<>^>^^v<^>><>^>v><>>>^v>vvv><>>>v>>v>>^<^^v><^<v^>^^^>v>>v<>v<v<<<>vv>v^^v><>^>vv^<>vv^^<<v>^<^<>^<>^v<v<<v^^v<<v^^><^^<v><>>^^^>>>vv><^>^vvv><>>>^^^^^v^v<>>vv>>v^^>^v<^<<<<><><<>v>>>vvv<>^^<^v>^<v>^<<^^<<><>vv^^<v^v^<v<v<v>^vv<^><<><>>vv^v><^<^v<v^>v<^><<><<<<<^<>>^<><><^^v>><<^<>>>>^v^<>><><^<<vv>^vv<><<^>v^^v^>^v^vvv^<<^^v<vvv>><vvv^^>>v^<>^v>^^<^v>>><v<<^<^^vv^^v<<<vv<>^v<^<>^<>^<^v><^v^^^>>><<>><<><v>>>>>v^><<>>>>v>vvvvv>>vv^^><^v>v<v^^v>v^><v>v>v<vv><<<>>>^>><^^<^vv<>>>vvv>v^<>>^^>v^^v<v>^>v<>^v>v>><>>v<^^<<^v<v^<>><><<^^^v<>>v>v^vv><>^>><v^v<<vvv>v^<vv<^v^<v>>vv<^>v^<<v><^^>><>^v^v>^vv<><v><v>>vv^<v><v><<vvv^^>><v<vv><<^<v<<^v<^<v<>>>>^^^^^<<^<v>^^<<^^<^v<^><>v^<>>>^vv>><<v><>v^<^v^v<<^<<<><<<v^>v^v^v^^<v>vv<<>v>v<>vv^<><v^<v>><vv<^<<<>^^<<vv<v<>^>v>v^vv>v<vvvv^^><<v<v^<<^>v<<>v^v<<<<^<<^v<v<>><vv<><^v<^^<v>^<<><v>v<<^^v^v^>v><v>^^v^v^>^^^>^^^v^vv^^>v>>v<<v>>^v<>>v^<^v^v<v<<v^v>^<v>^^<<<<v^^>v><<^<<<v^<^^><>><v^><><v^v^vv><><v<^vvv>><^<<<>>^>><v^v^v>^><>vvv<<^v<>^>vvv^v<>^><>>^^><<^<vv^<>^v^^^<<vv>^>^<<>>v^^>><^^^>>^^<^^<>>>v>v^vv>v<^^^v>>^^v>><>>^vv<><^>>^<vv><<^^v>>v^>vv>v><>vv>>v<v<<^vv<^>^v^^<>v><><vv^vvv><>>^<v<>^^<^>>vv<^<<<<<vvvv>^<><<^<>^v<vv>v<<^^<><<^<^v^>>v><>v<^<<v><^>>>^^v><^v^^vv^<^><^v<><^>^v<^<>^<^v<>^v<><<^>^^<>>>>v^v^><>>^<><^v><v<v^<^^><<<>>^<v<v>v^>^<v><<<<v>><v^^^v<^>v^<vv<<>^>><^<^>>^><<v^>^<<>vv<v<<^v<v>v>^^>v^^<><^v>v>^>v<<^^v<^><>>^>^<^v<vv<>vv>>^<<<>>v<>v^^<><>vvvv><^<>^v<>v><>vv^>^v^<^vv^<^v^<v><^v^<v^v><vv>>>v<>v^vvv^>>^<v>>v<<v<>vv>>>>>>^<^^v<><<><<<<^<<v^v><^>v^<vv<vv^>v^<^><<>^>v<>^<^<<<v>>vv>>>v<v<v>^<>^v<>v^v<><v>>vvv>^>^^^^>^><<<><^vv^vv>^<><<v^<<<<<v^<^v>^^^<vv>^vv^>vv<>^<^>vv^>><^><^<>vv^v^^vv<^v^v><^>v<<^v<v<^<v>><vv^^<<><^^^>>^<^^<^^<<v^v<><<v<><vv<<v>>^<^<<v><>^^>>vvv<v^v<>>^<^<^<>>^>^>^^>^v><^^<<<v^<vv<^<v^<<v><>>v>^>v<v>><<^^^^vvv<>>>^v<^<v<vv^<^<<><v<^^<^v<v>^v>^><><<><^v<^<v<><<><^v>><<<<<^^^>vv^^^v^<v^<^v>^^>v<>vv<<^>^<<>^vv^v<v<^^>>^^<v>^<v>^v<v>>><vv><v>v<>v<<^^v^^v<<^v<vv>^>^<>>>^<v><^^>>^<^v^v^^<^<^v>>^<<v>^^^<^<>v^>^<v<<>^^>^<v^>v>^<><>v^<v>v<<>^v<v<v><^v>^>^^^>v>>^<<^^vv>^<v>>>>^>v^><<^vv<^<vv^^<^<<<^^v^vvv^v>^>^<v^vv^^>^<>>v^^v<^^v<<^v>>vvvvv^vvv^v^v>^v<>^<v><<^^<<v^v<v><<<^vv<^^<^vv^v<<^><<^>^>>><v>^vvv>^^v>v^<^^vv<^>>^v<<^>vvv<<>^v^<<<><v<v^^<<>^v>vvv^v^<<<^v^vv^^><>v>^>^>vvvv>><<^v<<><>v^<^<>>v^^v>^^^^>v>>>v><vv<><^>v<<v<>v^><v^><>^v<vv<>v^<v^>vv<<><v<^v^<^vv^^<><^^<^<^<<>^>^^v>>v>vvv^^^v><v>><v<^<v^<v^>><v<<vv^v<>v^^v^^v>vv^<>v<<v^>>^<vv>>v^vv<<v<<><^><v^v<<<^v^v><^><>^vv>>vv>^><^vv^>^^>^<<>^v<^><>>^^<>^<<^v<^^^>v<<><<^>^<^>v<^>v<>>v>vvvv<^>^<v<>><<>v<^^<<>^^^<<vv^<>v^>v^v>v><>^<>v<<^^v><>^<>vv>^^<v<>>^v<^>>>^^^><^>^^>>vvv<>^v>^v<vv<v<>^>^>v>^^>>v<>>v^^^<^<v<><^v^<>^v^>v^<<>^^<^>^<>^^>^<^^>vv^^<<<v>><<<>^>^^v<>vv>v^v^<<<^>vv><v^^v<^^v^^<<<>v<<v^^^>>><^v<<^>>>>^<v><<<v>^vv<^<>>^^vv<>^^>v>^>>>>><^v>>>vv>v^^vv>>^^^<<<>vvv<^<<^v>^^>vv<><>v^><v^<^>^vv<^<>^><>>vv^<<v^<<^v>^^^v<<v<^v>><^>v^^>v^<>^><^^v<><v<>>^v^<^^<^<<<v>v<>^<>v<<^^<^>>>vv>vvv>>v>^<^>>vv>>^>^vv^>>>>><<v>v^><v<<>>v^<>^^>>v<<vvvv<v><<><v^^^^^<>>^<v<<<><>>>vv<<^><v<<v^<<^vv>^<^>vv^v>>v<vvvv><<vv<<>^v>v<<<>^^^>v^v^^vvvv<>v>^v>><^><<<vvv>v<>^^v^><v^>^><v>vv>v><>><>>v>^vv^v^^>><<^><>>^>v>v^^^>>>^vv<v^^><v<^^<<v^<>v^<<<^<^<^<<^>v><v<v^<<v<>^v^v^>><^v><^^><<v^<^^><>v>v>>>^^>><>v^^v<<vv>vv^<>>^v^vv<<>^<<v<>>>^<^<<^<^>^^<<^v<^v<>v>^^^^<^v>^>^v^^<^^<<<^<<<>><>^<vv^>^^<<<^>v>v^v>v<v^v<^^v<>><><vv<^v^vv>^<v>^>^v<<>^^<^>^<>>vv^^^>>^<v<v^<><<<^><>>v^^v^<^v<><<><v>v<><v<<^<>^^^>^<>v>>^v^vv<<v^vvv>^^><v^<v^^^<v><>^^>^v>vv<v^^^>><^>^vv>v^>^>^><><<v^^v<^^v>v<<^>>v^>^>^v<>v^><vvvv^<>^<<^vv^vv<v<<>^v>v><^v^>>^^<<v^v^^v<<>><>>v^^><>v>v<v><^>vv><>v^>^><>>>v>^v^^^vv><v<^><<v^v<v>>>^>vvvvvv^^^v>>vvv<>^>v^<^^<><vv><vv^<^v<<^>^>><>><>^>^v^v^>>^vvvvv><v>>>>^v^>>v<<<><>^>^<v<v><^v<^<>vv<>v<v^vv^<v<^v<><vv>><<v>v<<>>>v<^>>>^^v>>><><v>>v^v^v><>>>v<>^^>^<<<^<v><^><>^^^>v^<>^^v>>^<vvv^>^v>v^<^><>^^<<<<v>^<^^v<>v^^v>^><<v^^^<^><v^^^>>^^v>^>>vv<>v>^<>^^^vv<v>>><vv^<^v>>v>>^><>v^<^^v>v<^^><<v<>v<>v>vv<vv^<<<v>^<^^^<vv<v<v>^v^>vv<^^v>vvv^<v><v<<v<><v^^>^^^>v<^^>>^>><>^^<<vv^><v^>^^<^<><<>>^vvvvv^>^<v<>>^><>vv>^>^>^><v>>v^<>>^v<^<vv>v><v>v>>>^<^^v<<>>>v^vvv^v^>^^v^^>^^^^^><^v<v><<^v>vvv<vv<<vv>vvv>v><v>>><^v><vvv<<^>v>^>>^^^v^^v><<^><>>^v^<<>^^v<v>^^v><v^<>vv^><>vv><>^v>>^^<v<^^<^v>^>^<^vv>^^<>vv<^><>^<v><>>>>v^>^^>v>vv>^vv^v<>><<><^<vvv^v<v<<<v><v^>vvv<^>v<><v^>^vvv>v<<>><v>>^><>^^^>^vv><vv>v>vv<>^<<<<<<v^<v^<v<^v><>>>^v<>^v><>>>>v^v^<<>>^v<^><>vv<<>^>>v^>>v<>^<>vv><v<^v<vv^<<<vvv^<>>><<^v<v<>>>^^<^v><<v<>^>>v>v<><<^v^vv<><^>>>^><^<<v<^^v<v^vvv<^><<v^v^<^^>v>v<>^>><<^<^vv<^>^v^v^<v><^>>v<^><<v^<^^<^^v^<>><<^<v>><v<v>v<v>>^>><v<^><v>v<v^v^>^^v^^>v<vv^>v^><^>><<>^<^v<v>>><v><v^^<^v^><<>^<<vvvv>^vvv<^<>>^^^>>^v>^><^^<<<^<^v<vv^^vv<v>vv>^>>v>vv^v^vv^<<^^^<>v^^<><<v^v>^v<v><><<v^><^><^>^<<^^<<v^><<^<>^<^>>^<>>><><vv<^^^<><^>^<v<<v^^vvv^^^>^<^<vv>>vv>v>>^^<^><>v>><>>vv^^><>><vv>v^v<v^v^^^^v><<v>>>>>vvv><<v^^<vv^^^<v<>>v><<><>^<<>^><>^<^><^^v<^v^v^^^v<v>vvv>>^<v<^>v<<^<v>vvvv<><v<>>v^><>^<<>v<>>^^^v><<><v<><^>>v>>^>^>v>^<^>><<>v<^<<><vv^^v><vv^>><<^>^>^v^^<>>vv>^<><vv^>><^v^v><<<>v^>>>v^>v<^vv^>>^<>v^<<>vv>vvv<<<><^^v^<><v<vv<>^^<><vvv<^<^><vvv<>>^v>^<>>>v><>v^>v<v<^^<>^><v>v><vvv<v<<><><v<v^^>>>v>^>v>^>v<<^v><<^>vv<<<v>>>^v^>v<v>><<>>><<^v>v<<v>><^^<^>>^<v^v<>v^v>v^v<v^^><v>^v>^v><>>v>vvv^v>^^<<v>v<^v><vvvv^<<<>^v^<v<>><^v^^<^<>vv<>>vv>^^^<<<><>><vv^v><v^v^v^<^v<<>>v>^^v^>v><<^v<<>^^vv^v^v^v>v^v^^vv^>v<<^^>^>>^vv>>>^^v<<>><v><<<^v^>^^v><vv^<vv<^>>>vv^><>>vv^^>>>^>>v>^vvv>>v>v>^vv>v>^><>^<>vv<v<v^<^^>^<<>^v>^<vv^v<^^<<vv<v>><^>>^<<^>^<^v<^vv>>>v>^^vvv^v^^^^^^^>^>^v>>^v<^^^>^vv>v>v<><^^^vv<^vv^>^v<<>^vv<v^>>^<v^^v<<v>v^v<>vv<>>^><<^<>^<v>^^vv^>^v<^<><<<><>v>v<v^^^v^>^>>v>^^^^>^^>><>v>vvv^vvv<^<>>v<><^<^>><<<<<vv<<><^v<vvvv>^^<><<<>v>^>>^v><^^v<^>v>^v^<vv^^<>^<<>^vv>>><v>^v<v<^<<<vv>^<><^v<v^<<v<v^>^v>v>^>^<<^<v>>vvv^v^>>^<^><vvvv>v>v^^<v<>vv^v>^^>>^<^v^^<>vv>^^>v<><>^vvv<v^v^v><^^vv^<<^^<v^<<^^<<<v>>vvv>>><^^^^^v>^v<><<v>>^>^vv<v^<v^v^^>><vv<^<v><<^<v>vv<^v^^v><vv<<^^>>>^>^><v^^v>^v^>vvvv<><<>v>><>>v^>^<^^<>^^<<v^v<^^v^^^v<<v^<<<^<v<<>^v>>>^>^v<vv^<>>v><^<v<>v<><<>^^>v<<<^<><<^>^<v<><^>^<^^^^><v>^>^<^<^<>>^^<vv>^^^^>^<^<v<vv><vvv^^^v<><^^v^v<^^>>><>>v>v><>^<v<>vv<><v^^^>v>v<vv<vv>>>v>^<v<<v><>v>^<^^^^>>^v><<v<<>><>>v^>^v^v^v<v>vv<><^v>v^><v>^^<v^<v>v^><>v>vv<v<>><>v^vv>^>^^^^>^><^<^^>>v><<<<>^v>^^<^^^>v>^v^^v>vv>v<><v>^v^v<>>>>^>^>vv<><>v>v>^v^^<^^v<vv^v<<v^>>vv<>>>^^>>^<^^^<v<v^vv^^>><<v>^<vv>><^v>^>v<<>vv>v><>v^^<<>><<v^v<v>^^vv<>vv<<>v^>^>^^^v<>v>>>^v<>>>^^v<<>^<><v>vv>^<<v>vvvv^v^<><^>^>vvv^><<v<^<><>>^<v>v^^<^^>v<v^<>^v<<^^^^<^<^<v<^v^v><^vv>^<><^<>vv>^v^^<^^>^vv^^>>^<v^<v>^>><<vv^<<<>^>^^v>v>><<^>>^^>>^>>v<^<<v>><<^v>^<^^<<^^<><<<v<<vvvvv^<^>>>v<>^<vv^<^>>vv<^>><<^<^<<<>v^<^v^v>v^vvv<>^^>v<^v^^><v^>>>>v<<^^v^<<vv^<^v<<<^^<^v><vv^^v<<^><v<^<>^^v<^^<vv^vv>><<^^<v>^v^v<v^^^><v>v<><v^>^>><^^^v^>v><<vvv<v>^<v<<<v^<>v>^v>>>>>^>v^>v<><^>><<vv>^^>vv><^^v>>>vv<^^<<^^><<^>><^<v><^<v^v>v^<^^^<><>^>v<^>>v^<^^^<^^<^<^><><^>vv>vv<vv<<v><>>vv>^^>^v><v>>><^v^vvv<><<v^^^>^>v>>^<>v<>^v><v<><v><^<^v^<v^>^^v>vvv<><v^<<<v^<v<v<v^>>vv<vv>v<<<^v^vv><>vv>v^<<^^v^><<<>^<>^vv^>v^><v<v>><v^^<<>v<v>v^^v<<>^>^>vvv>>>>>>^^<>><^vv<v>v^v<<^v><^^<>><>><v>><v^>>^<^^>>^v^^<<v<^>>^^><<>v><vvvvv<<<^<<>v^^^v^v^<>>vv^<>v<^v<^<>>^<<><^>v<<v^>^<><>v>^^>>>v<^v>^^vvv<>^<<<^>v<><v^v<<^>^^>^<^>^<vvv<^v<^^<^v>v^>>v^v><v>>v<^^^^^^^vv^<<^<^<^vvv^^<>>v^v>v^<>vv>v^><v>v^>vv<<^v>v^^v^^><<<>^>^vv>>v<v><<vv^v^v^^v>v<>v<vv^v>v^v^<>^vv<v<v^^>^v>>>^^^<<v><>>>>^vv>v^<>><>>^^>v>><>>>^^<>^^>^vv^^vv^v<^v^>vv<><<<v^^^v>><><^^>v<<<><>^v>^<>v^<^<<<v>><><vv^v<<v^v^^v<v<>>v<^<^^^vvv>v^v>^^<^>v^v^vv>v<<<>v<^^><><>>v^<v>>>v^v<>v><v><^<^v<^^^^v>v^>>v<^vvv<><><^^^><>><<><^<vvv<<^v><v><<>><vv<^>><^>v^>>v><v^<>>^>><>v>>^v><^<<<><>>>>^vv>><v><>>^<vvvvv>v<^>>v><^^v<^^^^^>^^>v>vv<vv^v<^<^^<>v^<^vv>>^>v^v>v<v^<^<^vv^^^><<<>v>^>v^^^v^^>vv<>vv<vv^v>^^>vv<^<v>>^<^>>vvvv<<>><<^v^>>v<>>>>vv>vv<^><>><v<^^^>>>^>v>v<vv>vv<^><v^<<>><><v^<^vv^v>><<<vv>^v<^^^^<^^<<^>v>><<<>><<>><v<>^<<<>v<<v^^<vvvv^^>vv<>v<^v^v>>>v<vvv^><v^v><^<^><>v>v^vv>^^>^^vv<<>^v>v^^^<^v<v^>^^^^<<^^^<><<<>>v<><vv>><>^<>v>>^v^>v<<v>^^^v<<><<>v^>>v<>^>v>^^v^^v<>^v<<v<v>vv^v<<>>v<<><>>^>^^>>^<v<><<v<>v>v><<>^>^v<^>>^<>v>>>vv>^>>^^^vv^<>^^>>><^^v<v><><^^vv<>^>^<<<vvvv^<^^<^<><<><^^<<>^>v><><v>>><>^v<<<<^<^<>>^<<>>v<>v^vvv^^^^^v<><<>v^vvv><^<>^vv^v^v>v^^^v^^v>>^<vv<<<<v^v>^<v>><<>>^>><>vv><v><>^vv<^>><<<^>^>v>vv^<>v><<v<<<vv>>>><v^>^>^v^<^>^<<^<^v><><>v<>^^>^^vvv^vv<<<<vv^v<><<^<^^^<<><<^^^^<^<^<>^vv>vv><^^^^<<^v^<>^^^v<>v>^>vvv<v><vv>v^>>>v>^>>^<<v<>^>vv<v^<<^>><<>^<><>>>^^>v><<^^v>>v^<^<^<>>^<<><<>^^^<v^^<>vvv><<<^<><v<>^^v^>vvv^v<>^<v<^>v<>^vv^<>>^<v>>>^<<^<^^<^^^<>><<<^^<^<<>vv>v<>v<^^<vv^>^<>^><v^vv<>vvv>^>^v^vv<^^^^v>^>>^v^>v>^>><^^^>>^>>v^><>v^<<<<<vv^^^<><><v<<>><>^<^<v^v^v>><<<v<v<<v<><<<>>^vv^^>v^^<<vvv^^^^^^^^>v>>>>v<<<v<>>v<v>^>><<>>><>v><v<>v><v<<><^v<v<<v^>v<v^^v<<^v<<<vvv>vvvv^^<vv<v>vvv^<vv\n"
     ]
    }
   ],
   "source": [
    "# split the grid and moves into two seperate variables\n",
    "ip_grid = ip_dump[0].strip().split(\"\\n\")\n",
    "# make the moves into one long string - removing the newline characters\n",
    "moves = ip_dump[1].replace(\"\\n\", \"\")\n",
    "\n",
    "# ip_grid is a list having each row of grid as a element  - ex: '#.O.......O.....#'\n",
    "# since the grid has to be updated - we have to split each row into a list of each character \n",
    "# string in a list can't be updated for each character like - ex: ['#', '.', 'O', '.', '.', '.', '.', 'O','#']\n",
    "\n",
    "grid = []\n",
    "for line in ip_grid:\n",
    "    grid_row =  list(line)\n",
    "    grid.append(grid_row)\n",
    "\n",
    "# get the number of rows and columns\n",
    "rows = len(grid)\n",
    "columns = len(grid[0])\n",
    "\n",
    "print(rows, columns)\n",
    "print(moves)\n",
    "\n",
    "# directions are [1,0] - down, [0,1] - right, [-1,0] - up, [0,-1] - left\n",
    "dd = {  \">\" : [0, 1],\n",
    "        \"v\" : [1, 0],\n",
    "        \"<\" : [0,-1], \n",
    "        \"^\" : [-1,0]}\n"
   ]
  },
  {
   "cell_type": "code",
   "execution_count": 154,
   "metadata": {},
   "outputs": [],
   "source": [
    "# get the initial location of robot @    \n",
    "for x in range(rows):\n",
    "    for y in range(columns):\n",
    "        if grid[x][y] == \"@\":\n",
    "            robot_x = x\n",
    "            robot_y = y"
   ]
  },
  {
   "cell_type": "code",
   "execution_count": null,
   "metadata": {},
   "outputs": [],
   "source": [
    "# check if it is wall and ensure the movements are within walls - \"#\"\n",
    "def within_wall(i,j):\n",
    "    if grid[i][j] != '#':\n",
    "        return True"
   ]
  },
  {
   "cell_type": "code",
   "execution_count": 155,
   "metadata": {},
   "outputs": [],
   "source": [
    "# this is the function to process each move for robot and move the boxes if faced \n",
    "# pushing the boxes are processed based on the next empty spot\n",
    "# like ..@OO.# - rather than moving one box at the time - we look for next empty spot and move the first box to\n",
    "# next empty spot - then move robot to that box spot like - ..@.OO.# & ...@OO.#\n",
    "\n",
    "def make_move(ip_move):\n",
    "    # make the position of robot and the grid as global variable as we have to keep that values updated for each move\n",
    "    global robot_x, robot_y, grid\n",
    "\n",
    "    # get the direction offsets into dx and dy\n",
    "    dx, dy = ip_move\n",
    "\n",
    "    # add the direction offsets and find the new position\n",
    "    newx, newy = robot_x + dx, robot_y + dy\n",
    "\n",
    "    # if the new position is within wall - if not stop further moving\n",
    "    if not within_wall(newx, newy):\n",
    "        return\n",
    "\n",
    "    # store current position into a temp position\n",
    "    temp_x, temp_y = robot_x, robot_y\n",
    "\n",
    "    # process until it hits a wall - this while is used to check and move boxes - even multiple boxes\n",
    "    while within_wall(temp_x, temp_y):\n",
    "        \n",
    "        # add the movement to current position and make it next position\n",
    "        temp_x += dx\n",
    "        temp_y += dy\n",
    "\n",
    "        # check if it is within walls - if not - then break out of this while loop\n",
    "        if not within_wall(temp_x, temp_y):\n",
    "            break\n",
    "        \n",
    "        # after multiple tries - this was an idea found on internet - it is simple and elegant\n",
    "        # check for empty spot rather than box - since there might be multiple boxes present continiously \n",
    "        # if box is found in that new positon - then the while loop will push it to next position for check\n",
    "        # it will continue until we hit a wall or empty spot   \n",
    "        # start - #..@OOOO.# - check for empty spot - one after the other in the same direction        \n",
    "\n",
    "        if grid[temp_x][temp_y] == \".\":\n",
    "            # if empty spot - then put the box into that empty spot  - #..@OOOOO#\n",
    "            grid[temp_x][temp_y] = \"O\"\n",
    "            # make the current robot position as empty spot - #...OOOOO#\n",
    "            grid[robot_x][robot_y] = \".\"\n",
    "            # update the new robot postion\n",
    "            robot_x += dx \n",
    "            robot_y += dy\n",
    "            # put robot in that position - #...@OOOO#\n",
    "            grid[robot_x][robot_y] = \"@\"\n",
    "            break"
   ]
  },
  {
   "cell_type": "code",
   "execution_count": 156,
   "metadata": {},
   "outputs": [],
   "source": [
    "# iterate over each move - each character in the moves string\n",
    "for move in moves:\n",
    "    direction = dd[move]\n",
    "    make_move(direction)\n",
    "    "
   ]
  },
  {
   "cell_type": "code",
   "execution_count": 157,
   "metadata": {},
   "outputs": [
    {
     "name": "stdout",
     "output_type": "stream",
     "text": [
      "1349898\n"
     ]
    }
   ],
   "source": [
    "sum = 0\n",
    "# calculate the sum - for the coordinates of box\n",
    "for i in range(rows):\n",
    "    for j in range(columns):\n",
    "        if grid[i][j] == \"O\":\n",
    "            sum += (100*i + j)\n",
    "\n",
    "print(sum)"
   ]
  },
  {
   "cell_type": "code",
   "execution_count": 158,
   "metadata": {},
   "outputs": [
    {
     "name": "stdout",
     "output_type": "stream",
     "text": [
      "##################################################\n",
      "#.O....O..OO...O#..OOO.OOOO.O#.##.#OOOOO.....OOOO#\n",
      "##....##.......OO#.O.O#OOO..OOO.....OO.....O#...O#\n",
      "#.....OO........OO.OOOOOOO........O.O......#.#..O#\n",
      "#.O#O.OOO...#.#......O.OOOO.....#.O.OO#....O....O#\n",
      "#.OOOOO.....#........OOO.OOOOO..O.O.OOO.OO.....OO#\n",
      "#..#OOOO................OO.#..O.OOO#O#.O#O......O#\n",
      "##..O..O#O.....O.....#..O.OOOOOOOOO..O.#O........#\n",
      "#......OOO......O..........OO.O.O#....O..........#\n",
      "#.........#........OO.O......#........O#O....#...#\n",
      "#.....O.OOOO...#.#.#O#.........#......O...O..O.#.#\n",
      "#O..O.OO#OO..#OO...OO.O.....O.........#..#...O...#\n",
      "#O....OO..........#O................O........OO.O#\n",
      "#.#O...OO....................O#OO............OOOO#\n",
      "##OO.....#O##..O......#....OOOOOO.#.......O##.#O##\n",
      "#OOO..#....#OOOO.#......O.###OO#..O....O.....O.OO#\n",
      "#OOOO..O...O.OO#..O..OOO...OO#OOOO.O.O.#.......OO#\n",
      "#..O..#....OOOO....OO#.........OO#.O.O.....#..O#.#\n",
      "#....O...OOOOOO.....#O.....#...#OOOOO....O....OO##\n",
      "#O........#...O......OOOO#..#...#OOO...........OO#\n",
      "###O#.......#......O#O#O#OO.O..OOO............OO.#\n",
      "##OOO...O....OOO.O.O##O........O#..#....#.....O..#\n",
      "##OO....#....OOOOOOO..........O#O......O#O...O...#\n",
      "#O.OO#..#.......O#OO.O#...........#.....#....#..O#\n",
      "#.#OO...###.O.....OO..#.....O..........#O..#...OO#\n",
      "##OO.............###O.O...O.#...............O..OO#\n",
      "#OOO..........#....O.........O...........OOO..OOO#\n",
      "#OOO.....#O....OO..O........OO.....O#O....O...O###\n",
      "###O.O....O...#OO...OO...O...#..O..OOO...O#.OO..O#\n",
      "#OO.................OO.....OOO#OO@...O.#O#O..O..O#\n",
      "#...O....O.O#O.#...O...OOO....O..#...O..OOOOOO#..#\n",
      "#....O..O..O.#....OOO.......O.........#..#OO.O..##\n",
      "#.#....OO...##.....#.#...................OO..#.#O#\n",
      "#..........OO.O#...O.#....#O....O...............O#\n",
      "#..#O.....O....O.#O..#OO.......O.#O..............#\n",
      "#O..O#.......O##.OOO.......#.O#..O#..#.#.........#\n",
      "#OO......#.O.O.O...#.......O.O#O.O.O......#...#..#\n",
      "#O#...##OO.O.O.OO.......OOO..OOOO.OO.O........OOO#\n",
      "##.....OO.O.O...O.#....#O#...OOO#.O...........O#O#\n",
      "#O...O...#OOO..OO..O#.#O.O.....#OOO...........O#O#\n",
      "#.#OOO..OO.O....OO......O.O.....OO#..#...OO..OOOO#\n",
      "#......O.......##...OO.O#O......O#.......#....O.O#\n",
      "#O..O..OO......OO....####OO............O.....O..O#\n",
      "#O.......O..O..O..OOO..O.O#......OO......O..#O..##\n",
      "#..#......O.##.O..O.OO...........O.....O.O.....O.#\n",
      "#........#..#..##O....O.......#.#....O.........O.#\n",
      "#.....#.......O.......O.#O.OOO.......O........#..#\n",
      "##O#O........#...OO........OO#........#O.........#\n",
      "#...#...O..#O.O...OO......OOOOOO......#OOO#...OOO#\n",
      "##################################################\n"
     ]
    }
   ],
   "source": [
    "# one line implementation of that logic - using list comprehension\n",
    "print(\"\\n\".join([\"\".join(line) for line in grid]))\n",
    "# print the grid in recognisable format \n",
    "line_grid = []\n",
    "for a in grid:\n",
    "    line = \"\".join(a) # join all elements in a list and make it a string\n",
    "    line_grid.append(line) # append it to a list\n",
    "\n",
    "printable_grid = \"\\n\".join(line_grid) # join all elements in that string list into a printable grid with new line\n",
    "\n",
    "print(printable_grid)\n"
   ]
  }
 ],
 "metadata": {
  "kernelspec": {
   "display_name": "Python 3",
   "language": "python",
   "name": "python3"
  },
  "language_info": {
   "codemirror_mode": {
    "name": "ipython",
    "version": 3
   },
   "file_extension": ".py",
   "mimetype": "text/x-python",
   "name": "python",
   "nbconvert_exporter": "python",
   "pygments_lexer": "ipython3",
   "version": "3.12.8"
  }
 },
 "nbformat": 4,
 "nbformat_minor": 2
}
