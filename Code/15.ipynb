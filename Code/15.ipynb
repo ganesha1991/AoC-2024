{
 "cells": [
  {
   "cell_type": "code",
   "execution_count": 1,
   "metadata": {},
   "outputs": [],
   "source": [
    "with open(r\"C:\\Users\\thirggs\\Downloads\\Advent_of_code\\2024\\inputs\\sample.txt\") as file:\n",
    "    # open the file, read entire file as string, strip the leading and trailing spaces, split based on space character\n",
    "    ip_dump = file.read().strip().split(\"\\n\\n\")"
   ]
  },
  {
   "cell_type": "code",
   "execution_count": 26,
   "metadata": {},
   "outputs": [
    {
     "name": "stdout",
     "output_type": "stream",
     "text": [
      "8 8\n",
      "['########', '#..O.O.#', '##@.O..#', '#...O..#', '#.#.O..#', '#...O..#', '#......#', '########']\n",
      "<^^>>>vv<v>>v<<\n"
     ]
    }
   ],
   "source": [
    "ip_grid = ip_dump[0].strip().split(\"\\n\")\n",
    "moves = ip_dump[1]\n",
    "\n",
    "grid = ip_grid\n",
    "\n",
    "rows = len(grid)\n",
    "columns = len(grid[0])\n",
    "\n",
    "print(rows, columns)\n",
    "print(grid)\n",
    "print(moves)\n",
    "\n",
    "# directions are [1,0] - down, [0,1] - right, [-1,0] - up, [0,-1] - left\n",
    "dd = {  \">\" : [0, 1],\n",
    "        \"v\" : [1, 0],\n",
    "        \"<\" : [0,-1], \n",
    "        \"^\" : [-1,0]}\n"
   ]
  },
  {
   "cell_type": "code",
   "execution_count": 34,
   "metadata": {},
   "outputs": [],
   "source": [
    "def check_within_grid(i,j):\n",
    "    if 0 <= i < rows and 0 <= j < columns:\n",
    "        return True\n",
    "    \n",
    "def find_robot_position():\n",
    "    for x in range(rows):\n",
    "        for y in range(columns):\n",
    "            if grid[x][y] == \"@\":\n",
    "                return (x,y)"
   ]
  },
  {
   "cell_type": "code",
   "execution_count": null,
   "metadata": {},
   "outputs": [],
   "source": [
    "def make_moves(input_move):\n",
    "    # make it global so, the positions are updated based on each move\n",
    "    global grid, robo_x, robo_y\n",
    "    robo_x, rob_y = find_robot_position() \n",
    "    \n",
    "    dx,dy = dd[input_move] \n",
    "    \n",
    "    new_x, new_y = robo_x + dx, robo_y + dy\n",
    "    \n",
    "    while check_within_grid(new_x, new_y):\n",
    "\n",
    "        if grid[new_x][new_y] == \"#\":\n",
    "            break\n",
    "         \n",
    "        if grid[new_x][new_y] == \".\":\n",
    "            grid[new_x][new_y] = \"@\"\n",
    "            grid[robo_x][robo_y] = \".\"\n",
    "            robo_x, robo_y = new_x, new_y\n",
    "            break\n",
    "        \n",
    "        if grid[new_x][new_y] == \"O\":\n",
    "            grid[new]"
   ]
  },
  {
   "cell_type": "code",
   "execution_count": 36,
   "metadata": {},
   "outputs": [],
   "source": [
    "def make_move(input_move):\n",
    "    global grid, robo_x, robo_y\n",
    "    \n",
    "    dx,dy = dd[input_move] \n",
    "    \n",
    "    robo_x, robo_y = find_robot_position()\n",
    "    new_x, new_y = robo_x + dx, robo_y + dy\n",
    "\n",
    "    if not check_within_grid(new_x, new_y):\n",
    "        return\n",
    "\n",
    "    # If is box, try pushing box\n",
    "    curr_x, curr_y =  robo_x, robo_y\n",
    "    while check_within_grid(curr_x, curr_y):\n",
    "        curr_x += dx\n",
    "        curr_y += dy\n",
    "        if not check_within_grid(curr_x, curr_y):\n",
    "            break\n",
    "\n",
    "        if grid[curr_x][curr_y] == \"#\":\n",
    "            break\n",
    "\n",
    "        if grid[curr_x][curr_y] == \".\":\n",
    "            grid[curr_x][curr_y] = \"O\"\n",
    "            grid[robo_x][robo_y] = \".\"\n",
    "            robo_x, robo_y = robo_x+dx, robo_y+dy\n",
    "            grid[robo_x][robo_y]  = \"@\"\n",
    "            break"
   ]
  },
  {
   "cell_type": "code",
   "execution_count": 37,
   "metadata": {},
   "outputs": [
    {
     "ename": "TypeError",
     "evalue": "'str' object does not support item assignment",
     "output_type": "error",
     "traceback": [
      "\u001b[1;31m---------------------------------------------------------------------------\u001b[0m",
      "\u001b[1;31mTypeError\u001b[0m                                 Traceback (most recent call last)",
      "\u001b[1;32m<ipython-input-37-c51a26515b36>\u001b[0m in \u001b[0;36m<module>\u001b[1;34m\u001b[0m\n\u001b[0;32m      1\u001b[0m \u001b[1;32mfor\u001b[0m \u001b[0mmove\u001b[0m \u001b[1;32min\u001b[0m \u001b[0mmoves\u001b[0m\u001b[1;33m:\u001b[0m\u001b[1;33m\u001b[0m\u001b[1;33m\u001b[0m\u001b[0m\n\u001b[1;32m----> 2\u001b[1;33m     \u001b[0mmake_move\u001b[0m\u001b[1;33m(\u001b[0m\u001b[0mmove\u001b[0m\u001b[1;33m)\u001b[0m\u001b[1;33m\u001b[0m\u001b[1;33m\u001b[0m\u001b[0m\n\u001b[0m",
      "\u001b[1;32m<ipython-input-36-85c4352fc19d>\u001b[0m in \u001b[0;36mmake_move\u001b[1;34m(input_move)\u001b[0m\n\u001b[0;32m     22\u001b[0m \u001b[1;33m\u001b[0m\u001b[0m\n\u001b[0;32m     23\u001b[0m         \u001b[1;32mif\u001b[0m \u001b[0mgrid\u001b[0m\u001b[1;33m[\u001b[0m\u001b[0mcurr_x\u001b[0m\u001b[1;33m]\u001b[0m\u001b[1;33m[\u001b[0m\u001b[0mcurr_y\u001b[0m\u001b[1;33m]\u001b[0m \u001b[1;33m==\u001b[0m \u001b[1;34m\".\"\u001b[0m\u001b[1;33m:\u001b[0m\u001b[1;33m\u001b[0m\u001b[1;33m\u001b[0m\u001b[0m\n\u001b[1;32m---> 24\u001b[1;33m             \u001b[0mgrid\u001b[0m\u001b[1;33m[\u001b[0m\u001b[0mcurr_x\u001b[0m\u001b[1;33m]\u001b[0m\u001b[1;33m[\u001b[0m\u001b[0mcurr_y\u001b[0m\u001b[1;33m]\u001b[0m \u001b[1;33m=\u001b[0m \u001b[1;34m\"O\"\u001b[0m\u001b[1;33m\u001b[0m\u001b[1;33m\u001b[0m\u001b[0m\n\u001b[0m\u001b[0;32m     25\u001b[0m             \u001b[0mgrid\u001b[0m\u001b[1;33m[\u001b[0m\u001b[0mrobo_x\u001b[0m\u001b[1;33m]\u001b[0m\u001b[1;33m[\u001b[0m\u001b[0mrobo_y\u001b[0m\u001b[1;33m]\u001b[0m \u001b[1;33m=\u001b[0m \u001b[1;34m\".\"\u001b[0m\u001b[1;33m\u001b[0m\u001b[1;33m\u001b[0m\u001b[0m\n\u001b[0;32m     26\u001b[0m             \u001b[0mrobo_x\u001b[0m\u001b[1;33m,\u001b[0m \u001b[0mrobo_y\u001b[0m \u001b[1;33m=\u001b[0m \u001b[0mrobo_x\u001b[0m\u001b[1;33m+\u001b[0m\u001b[0mdx\u001b[0m\u001b[1;33m,\u001b[0m \u001b[0mrobo_y\u001b[0m\u001b[1;33m+\u001b[0m\u001b[0mdy\u001b[0m\u001b[1;33m\u001b[0m\u001b[1;33m\u001b[0m\u001b[0m\n",
      "\u001b[1;31mTypeError\u001b[0m: 'str' object does not support item assignment"
     ]
    }
   ],
   "source": [
    "for move in moves:\n",
    "    make_move(move)"
   ]
  },
  {
   "cell_type": "code",
   "execution_count": 24,
   "metadata": {},
   "outputs": [],
   "source": [
    "dx,dy=dd[\"<\"]"
   ]
  },
  {
   "cell_type": "code",
   "execution_count": 28,
   "metadata": {},
   "outputs": [
    {
     "name": "stdout",
     "output_type": "stream",
     "text": [
      "1 2\n"
     ]
    }
   ],
   "source": [
    "print(dx,dy)"
   ]
  },
  {
   "cell_type": "code",
   "execution_count": 27,
   "metadata": {},
   "outputs": [],
   "source": [
    "cx =1 \n",
    "cy =2 \n",
    "dx,dy = cx,cy"
   ]
  },
  {
   "cell_type": "code",
   "execution_count": null,
   "metadata": {},
   "outputs": [],
   "source": []
  }
 ],
 "metadata": {
  "kernelspec": {
   "display_name": "Python 3",
   "language": "python",
   "name": "python3"
  },
  "language_info": {
   "codemirror_mode": {
    "name": "ipython",
    "version": 3
   },
   "file_extension": ".py",
   "mimetype": "text/x-python",
   "name": "python",
   "nbconvert_exporter": "python",
   "pygments_lexer": "ipython3",
   "version": "3.7.4"
  }
 },
 "nbformat": 4,
 "nbformat_minor": 2
}
