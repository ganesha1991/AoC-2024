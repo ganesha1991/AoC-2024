{
 "cells": [
  {
   "cell_type": "code",
   "execution_count": 15,
   "metadata": {},
   "outputs": [],
   "source": [
    "import re\n",
    "# re is imported as we have to split the string with multiple delimiters (: and new line)\n",
    "with open(r\"C:\\Users\\thirggs\\Downloads\\Advent_of_code\\2024\\inputs\\17.txt\") as ipdump:\n",
    "    # open the file, read entire file as string, strip the leading and trailing spaces,\n",
    "    # split them into a list of values and literals\n",
    "    \n",
    "    ip_string = ipdump.read().strip()\n",
    "    ip_list = re.split(\"\\n|:\", ip_string)"
   ]
  },
  {
   "cell_type": "code",
   "execution_count": 16,
   "metadata": {},
   "outputs": [
    {
     "data": {
      "text/plain": [
       "['Register A',\n",
       " ' 59590048',\n",
       " 'Register B',\n",
       " ' 0',\n",
       " 'Register C',\n",
       " ' 0',\n",
       " '',\n",
       " 'Program',\n",
       " ' 2,4,1,5,7,5,0,3,1,6,4,3,5,5,3,0']"
      ]
     },
     "execution_count": 16,
     "metadata": {},
     "output_type": "execute_result"
    }
   ],
   "source": [
    "ip_list"
   ]
  },
  {
   "cell_type": "code",
   "execution_count": 28,
   "metadata": {},
   "outputs": [],
   "source": [
    "# Store the values of registers and the operands into the variables\n",
    "\n",
    "reg_a = int(ip_list[1].strip())\n",
    "reg_b = int(ip_list[3].strip())\n",
    "reg_c = int(ip_list[5].strip())\n",
    "program_str = ip_list[8].strip().split(\",\")\n",
    "program = [int(a) for a in program_str]"
   ]
  },
  {
   "cell_type": "code",
   "execution_count": 29,
   "metadata": {},
   "outputs": [
    {
     "name": "stdout",
     "output_type": "stream",
     "text": [
      "59590048 0 0 [2, 4, 1, 5, 7, 5, 0, 3, 1, 6, 4, 3, 5, 5, 3, 0]\n"
     ]
    }
   ],
   "source": [
    "print(reg_a, reg_b,reg_c, program)"
   ]
  },
  {
   "cell_type": "code",
   "execution_count": 38,
   "metadata": {},
   "outputs": [
    {
     "name": "stdout",
     "output_type": "stream",
     "text": [
      "[]\n",
      "[]\n",
      "[4]\n",
      "[4]\n",
      "[4]\n",
      "1012 0 0 [4]\n"
     ]
    }
   ],
   "source": [
    "# actual calculation Logic\n",
    "\n",
    "ip_pointer = 2\n",
    "out = []\n",
    "\n",
    "reg_a = 2024\n",
    "reg_b = 0\n",
    "reg_c = 0\n",
    "program = [0,1,5,4,3,0]\n",
    "\n",
    "\n",
    "for x in range(len(program)):\n",
    "\n",
    "    if x < len(program)-1:\n",
    "        opcode = program[x]\n",
    "        operand = program[x+1]\n",
    "    else:\n",
    "        break\n",
    "    \n",
    "    \n",
    "    if operand == 4: \n",
    "        operand = reg_a\n",
    "    elif operand == 5:\n",
    "        operand = reg_b\n",
    "    elif operand == 6:\n",
    "        operand = reg_c\n",
    "    elif operand == 7:\n",
    "        print(\"Operand 7 encountered - program not valid\")\n",
    "    \n",
    "    if opcode == 0:\n",
    "        div = 2 ** operand\n",
    "        result = reg_a / div\n",
    "        reg_a = int(result)\n",
    "        x += ip_pointer\n",
    "    elif opcode == 1:\n",
    "        xor = reg_b ^ operand\n",
    "        reg_b = xor\n",
    "        x += ip_pointer\n",
    "    elif opcode == 2:\n",
    "        mod_8 = operand % 8\n",
    "        reg_b = mod_8\n",
    "        x += ip_pointer\n",
    "    elif opcode == 3:\n",
    "        if reg_a == 0:\n",
    "            x += ip_pointer\n",
    "        else:\n",
    "            x += reg_a\n",
    "    elif opcode == 4:\n",
    "        xor = reg_b ^ reg_c\n",
    "        reg_b = xor\n",
    "        x += ip_pointer\n",
    "    elif opcode == 5:\n",
    "        mod_8 = operand % 8\n",
    "        out.append(mod_8)\n",
    "        x += ip_pointer\n",
    "    elif opcode == 6:\n",
    "        div = 2 ** operand\n",
    "        result = reg_a / div\n",
    "        reg_b = int(result)\n",
    "        x += ip_pointer\n",
    "    elif opcode == 7:\n",
    "        div = 2 ** operand\n",
    "        result = reg_a / div\n",
    "        reg_c = int(result)\n",
    "        x += ip_pointer\n",
    "\n",
    "    print(out)\n",
    "\n",
    "print(reg_a, reg_b,reg_c, out)"
   ]
  },
  {
   "cell_type": "code",
   "execution_count": null,
   "metadata": {},
   "outputs": [],
   "source": []
  }
 ],
 "metadata": {
  "kernelspec": {
   "display_name": "Python 3",
   "language": "python",
   "name": "python3"
  },
  "language_info": {
   "codemirror_mode": {
    "name": "ipython",
    "version": 3
   },
   "file_extension": ".py",
   "mimetype": "text/x-python",
   "name": "python",
   "nbconvert_exporter": "python",
   "pygments_lexer": "ipython3",
   "version": "3.7.4"
  }
 },
 "nbformat": 4,
 "nbformat_minor": 2
}
