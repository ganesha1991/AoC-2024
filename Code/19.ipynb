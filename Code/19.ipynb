{
 "cells": [
  {
   "cell_type": "code",
   "execution_count": 39,
   "metadata": {},
   "outputs": [],
   "source": [
    "# with open(r\"C:\\Users\\thirggs\\Downloads\\Advent_of_code\\2024\\inputs\\19.txt\") as map_dump: # location in intranet\n",
    "\n",
    "\n",
    "with open(r\"C:\\Users\\sgane\\AoC\\Inputs\\19.txt\") as ip_dump: # location in my own machine\n",
    "\n",
    "# with open(r\"C:\\Users\\sgane\\AoC\\Inputs\\sample.txt\") as ip_dump:\n",
    "    # open the file, read entire file as string, strip the leading and trailing spaces, split based on double \\n character\n",
    "    ip_list = ip_dump.read().strip().split(\"\\n\\n\")"
   ]
  },
  {
   "cell_type": "code",
   "execution_count": 40,
   "metadata": {},
   "outputs": [
    {
     "name": "stdout",
     "output_type": "stream",
     "text": [
      "447 400\n"
     ]
    }
   ],
   "source": [
    "# split the input parts into patterns and the designs - then make them into their own list using split\n",
    "patterns = ip_list[0].strip().split(\", \") # all patterns were having , and space - first used , only to get wrong results\n",
    "designs = ip_list[1].strip().split(\"\\n\")\n",
    "\n",
    "print(len(patterns), len(designs))\n",
    "\n"
   ]
  },
  {
   "cell_type": "code",
   "execution_count": 41,
   "metadata": {},
   "outputs": [],
   "source": [
    "# will define a recursive function to check the strings in the designs to find possibility of making a design with givn patterns\n",
    "# logic is to find the pattern which is matching with start of the design and remove the matching pattern from design\n",
    "# and do it all over again with shortened design\n",
    "\n",
    "def check_designs(design, pattern_list): # gets a single design and whole patterns list as input\n",
    "\n",
    "    # after each match with pattern, design will get reduced if it is empty - then we have a possible design here\n",
    "    \n",
    "    if design == \"\":            # this is the positive exit loop for this recursive function\n",
    "        return True\n",
    "    \n",
    "\n",
    "    # for every pattern in the pattern list\n",
    "    for pattern in pattern_list:\n",
    "\n",
    "        # check if the design is starting with that pattern\n",
    "        # if yes, then remove matching pattern from start of design and repeat this check again for modified design\n",
    "        \n",
    "        if design.startswith(pattern):\n",
    "            if check_designs(design[len(pattern):], pattern_list): # recursive call\n",
    "                return True         # this true will come after the design is empty in after several recursive calls\n",
    "            \n",
    "    # if not able to find the matching pattern - then simply return false \n",
    "    return False"
   ]
  },
  {
   "cell_type": "code",
   "execution_count": null,
   "metadata": {},
   "outputs": [
    {
     "name": "stdout",
     "output_type": "stream",
     "text": [
      "input designs: 400\n",
      "possible designs: 296\n"
     ]
    }
   ],
   "source": [
    "results = []\n",
    "# initialise the results list - it will contain a entry for every possible design\n",
    "\n",
    "# iterate over the list the designs \n",
    "for design in designs:\n",
    "    #print(design)\n",
    "\n",
    "    # check if the design is possible with available patterns - one design at a time\n",
    "    if_possible = check_designs(design, patterns)\n",
    "\n",
    "    #if it is possible (returned true), then append a 1 to the results list\n",
    "    if if_possible:\n",
    "        results.append(1)\n",
    "\n",
    "# len of the results list or sum of the results list will give the answer\n",
    "print(\"input designs:\",len(designs))\n",
    "print(\"possible designs:\",len(results))"
   ]
  }
 ],
 "metadata": {
  "kernelspec": {
   "display_name": "Python 3",
   "language": "python",
   "name": "python3"
  },
  "language_info": {
   "codemirror_mode": {
    "name": "ipython",
    "version": 3
   },
   "file_extension": ".py",
   "mimetype": "text/x-python",
   "name": "python",
   "nbconvert_exporter": "python",
   "pygments_lexer": "ipython3",
   "version": "3.12.8"
  }
 },
 "nbformat": 4,
 "nbformat_minor": 2
}
