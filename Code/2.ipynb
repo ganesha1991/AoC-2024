{
 "cells": [
  {
   "cell_type": "code",
   "execution_count": 75,
   "metadata": {},
   "outputs": [
    {
     "name": "stdout",
     "output_type": "stream",
     "text": [
      "p1 598\n",
      "p2: 634\n"
     ]
    }
   ],
   "source": [
    "safe = 0\n",
    "\n",
    "with open(r\"C:\\Users\\thirggs\\Downloads\\Advent_of_code\\2024\\inputs\\2.txt\") as fin:\n",
    "    # open the file, read entire file as string, strip the leading and trailing spaces, split based on newline character\n",
    "    lines = fin.read().strip().split(\"\\n\")\n",
    "\n",
    "# define check_safe function \n",
    "def check_safe(lst):\n",
    "    # check the list for increasing numbers - first two elements checked  ascending \n",
    "\n",
    "    inc = lst[1] > lst[0]\n",
    "    # then look for difference between adjacent elements - looping the whole list \n",
    "    if inc:\n",
    "        for i in range(1, len(lst)):\n",
    "            diff = lst[i] - lst[i-1]\n",
    "            # if the difference is more than 3 and less than 1 then return false or 0(move out of function)\n",
    "            if not 1 <= diff <= 3: \n",
    "                return False\n",
    "        # if the difference within range then return 1 or True\n",
    "        return True                \n",
    "    # if the first two elements are in decreasing order - check for negative differences    \n",
    "    else:                          \n",
    "        for i in range(1, len(lst)):\n",
    "            diff = lst[i] - lst[i-1]\n",
    "            if not -3 <= diff <= -1:\n",
    "                return False\n",
    "        return True\n",
    "\n",
    "for line in lines:\n",
    "    lst = [int(i) for i in line.split()]     # reiterate for all lines - used split to split each entry in each list for int func\n",
    "    safe += check_safe(lst)                  # add iteratively for final count (all trues returned from func will be adding 1)\n",
    "\n",
    "print(\"p1\",safe)\n",
    "\n",
    "# part 2 is to find lists where removing one element might make it safe. \n",
    "# approach here is to check each list if it is safe after removing each element from it one by one\n",
    "\n",
    "\n",
    "p2_safe=0\n",
    "def p2(lst):\n",
    "    if check_safe(lst):\n",
    "        return True\n",
    "    else:\n",
    "        for i in range(len(lst)):\n",
    "            # slice list on left (all elements before off set i -for i=0 it is empty)\n",
    "            left=lst[:i]\n",
    "            # slice list to the right all elements after i+1 - so skipping that one element\n",
    "            right=lst[i+1:]\n",
    "            # merging both left and right into new list \n",
    "            merge=left + right\n",
    "            # check if the new list is safe\n",
    "            if check_safe(merge):\n",
    "                return True\n",
    "        return False\n",
    "\n",
    "for line in lines:\n",
    "    lst = [int(j) for j in line.split()]\n",
    "    p2_safe += p2(lst)\n",
    "    \n",
    "print(\"p2:\", p2_safe)\n"
   ]
  },
  {
   "cell_type": "code",
   "execution_count": null,
   "metadata": {},
   "outputs": [],
   "source": []
  }
 ],
 "metadata": {
  "kernelspec": {
   "display_name": "Python 3",
   "language": "python",
   "name": "python3"
  },
  "language_info": {
   "codemirror_mode": {
    "name": "ipython",
    "version": 3
   },
   "file_extension": ".py",
   "mimetype": "text/x-python",
   "name": "python",
   "nbconvert_exporter": "python",
   "pygments_lexer": "ipython3",
   "version": "3.7.4"
  }
 },
 "nbformat": 4,
 "nbformat_minor": 2
}
