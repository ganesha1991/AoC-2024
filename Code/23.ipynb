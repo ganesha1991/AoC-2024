{
 "cells": [
  {
   "cell_type": "code",
   "execution_count": 45,
   "metadata": {},
   "outputs": [],
   "source": [
    "# with open(r\"C:\\Users\\thirggs\\Downloads\\Advent_of_code\\2024\\inputs\\23.txt\") as map_dump: # location in intranet\n",
    "\n",
    "with open(r\"C:\\Users\\sgane\\AoC\\Inputs\\23.txt\") as ip_dump: # location in my own machine\n",
    "\n",
    "# with open(r\"C:\\Users\\sgane\\AoC\\Inputs\\sample.txt\") as ip_dump:\n",
    "    # open the file, read entire file as string, strip the leading and trailing spaces, split based on double \\n character\n",
    "    ip_list = ip_dump.read().strip().split(\"\\n\")"
   ]
  },
  {
   "cell_type": "code",
   "execution_count": 46,
   "metadata": {},
   "outputs": [],
   "source": [
    "from collections import defaultdict\n",
    "# using default dictionary to make the  key is accessed but doesn't exist, \n",
    "# it automatically creates the key with a default value (in this case, an empty list).\n",
    "connected = defaultdict(list)\n",
    "\n",
    "# for each entry in list - split the entry into individual computers : kh-tf will be split into kh & tf.\n",
    "\n",
    "for entry in ip_list:\n",
    "    computer1, computer2 = entry.split(\"-\")\n",
    "    # add first entry as key into dictionary - and the second entry into the values list.\n",
    "    # add second entry as key into dictionary - and the first entry into the values list.\n",
    "    connected[computer1].append(computer2)\n",
    "    connected[computer2].append(computer1)\n",
    "\n",
    "# the connected dictionary will have - each computer as key and the the list of computers connected to it\n",
    "# like example - 'kh': ['tc', 'qp', 'ub', 'ta'] - kh is connected to the computers in list ['tc', 'qp', 'ub', 'ta']\n"
   ]
  },
  {
   "cell_type": "code",
   "execution_count": 47,
   "metadata": {},
   "outputs": [],
   "source": [
    "# initialise the set - to put all the group of 3 computers\n",
    "\n",
    "three_set = set()\n",
    "\n",
    "# to find the three computers which are connected - check them one by one.  'kh': ['tc', 'qp', 'ub', 'ta']\n",
    "# first pick one computer - ex. 'kh' then get two computers connected to it 'qp'& 'ub' - \n",
    "# then check if those two are connected to each other - qb and ub\n",
    "\n",
    "\n",
    "for computer in dict(connected):     \n",
    "    # iterate over all the keys in the dictionary - to get first computer - pc1\n",
    "    for comp1 in connected[computer]:    \n",
    "        # iterate over all the computers in the connected list of pc1 - to pick a connected computer - pc2\n",
    "        for comp2 in connected[computer]:\n",
    "            # iterate over all the computers in the connected list of pc1 - to pick another connected computer - pc3\n",
    "            if comp2 in connected[comp1]:\n",
    "                # check if pc3 is connected to pc2 - if so, all 3 are connected - then add them to set of 3. in sorted order\n",
    "                # sorting them as kh-tc & tc-kh is same.\n",
    "                three_set.add(tuple(sorted([computer, comp1, comp2])))\n",
    "\n",
    "#  pc2 and pc3 will be same during first iteration \n",
    "#  but, it wont pass the if condition as no computer will be present in its connected list itself."
   ]
  },
  {
   "cell_type": "code",
   "execution_count": 48,
   "metadata": {},
   "outputs": [
    {
     "name": "stdout",
     "output_type": "stream",
     "text": [
      "1352\n"
     ]
    }
   ],
   "source": [
    "count = 0\n",
    "# check if the pc is starting with 't' to find the santa's pc\n",
    "for x,y,z in three_set:\n",
    "    if \"t\" in [x[0] ,y[0], z[0]]:\n",
    "        count += 1\n",
    "\n",
    "# count will provide the number of three sets where santa's pc might be present\n",
    "\n",
    "print(count)"
   ]
  }
 ],
 "metadata": {
  "kernelspec": {
   "display_name": "Python 3",
   "language": "python",
   "name": "python3"
  },
  "language_info": {
   "codemirror_mode": {
    "name": "ipython",
    "version": 3
   },
   "file_extension": ".py",
   "mimetype": "text/x-python",
   "name": "python",
   "nbconvert_exporter": "python",
   "pygments_lexer": "ipython3",
   "version": "3.12.8"
  }
 },
 "nbformat": 4,
 "nbformat_minor": 2
}
