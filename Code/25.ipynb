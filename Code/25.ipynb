{
 "cells": [
  {
   "cell_type": "code",
   "execution_count": 82,
   "metadata": {},
   "outputs": [],
   "source": [
    "with open(r\"C:\\Users\\sgane\\AoC\\inputs\\25.txt\") as ipdump:\n",
    "# with open(r\"C:\\Users\\sgane\\AoC\\inputs\\sample.txt\") as ipdump:\n",
    "    # open the file, read entire file as string, strip the leading and trailing spaces,\n",
    "    # split based on each machine i/p into a list\n",
    "    base_list = ipdump.read().strip().split(\"\\n\\n\")"
   ]
  },
  {
   "cell_type": "code",
   "execution_count": 83,
   "metadata": {},
   "outputs": [],
   "source": [
    "# function to get heights for each key and lock\n",
    "# loop over string entries in each list and count the character \"#\" at each position\n",
    " \n",
    "def find_heights(temp_list):\n",
    "    \n",
    "    str_length = len(temp_list[0])\n",
    "    # defining a list with zeroes of length equal to the length of the strings - So, that we can store the count right away at each position\n",
    "    counts = [0] * str_length\n",
    "    \n",
    "    for entry in temp_list: # for each string\n",
    "        for i,character in enumerate(entry): # loop over each character - i position and character is value\n",
    "            if character == \"#\": \n",
    "                counts[i] += 1 # increase the count in that position in our counter list\n",
    "\n",
    "    return counts\n"
   ]
  },
  {
   "cell_type": "code",
   "execution_count": 84,
   "metadata": {},
   "outputs": [],
   "source": [
    "# split individual entries(a key or lock) into a list of rows to seperate them into keys and locks - determine their heights \n",
    "# initialise lists\n",
    "key_heights = []\n",
    "\n",
    "lock_heights = []\n",
    "\n",
    "temp = []\n",
    "\n",
    "not_key_lock = []\n",
    "\n",
    "heights = []\n",
    "# define the empty and filled rows to split keys and locks\n",
    "empty = \".....\"\n",
    "filled = \"#####\"\n",
    "\n",
    "# for each key/lock entry in baselist\n",
    "for i in range(len(base_list)):\n",
    "# pick the string and split in based on \\n - to get a list of rows \n",
    "    string = base_list[i]\n",
    "    temp = string.split(\"\\n\")\n",
    "    len_temp = len(temp)\n",
    "    # if first row is empty and last is filled - it is a key\n",
    "    if temp[0] == empty and temp[len_temp - 1] == filled:\n",
    "        # key found - bottom row to be removed for calculating heights\n",
    "        # doesn't make a difference if not removing the # row as key's last row and locks top row will cancel each other\n",
    "        temp.pop(len_temp - 1 )\n",
    "        # call the function to calculate height of this key - once found, append it to key heights list\n",
    "        heights = find_heights(temp)\n",
    "        key_heights.append(heights)\n",
    "    # if first row is filled and last is empty - it is a lock\n",
    "    elif temp[0] == filled and temp[len_temp - 1] == empty:\n",
    "        # lock found - top row to be removed for calculating heights\n",
    "        # doesn't make a difference if not removing the # row as key's last row and locks top row will cancel each other\n",
    "        temp.pop(0)\n",
    "        # call the function to calculate height of this lock - once found, append it to lock heights list\n",
    "        heights = find_heights(temp)\n",
    "        lock_heights.append(heights)\n",
    "    else: # just to catch outliers\n",
    "        not_key_lock.append(base_list[i])\n",
    "\n",
    "# now we have heights of each lock in lock heights list and heights of each key in key heights list.\n",
    "# we have to loop over each lock and try all keys to see if the heights are exceeding the allowed limit\n"
   ]
  },
  {
   "cell_type": "code",
   "execution_count": null,
   "metadata": {},
   "outputs": [
    {
     "name": "stdout",
     "output_type": "stream",
     "text": [
      "2993\n"
     ]
    }
   ],
   "source": [
    "# initialise the pair count\n",
    "lock_key_pair = 0\n",
    "\n",
    "for i in lock_heights:              # for every lock in lock heights list\n",
    "    for j in key_heights:           # try all keys in the key heights list\n",
    "        # print (i,j)\n",
    "        pair = True                 # start as if pair is true\n",
    "        for x in range(len(j)):     # for each column \n",
    "            if i[x] + j[x] >= 6:    # check if the sum of filled is greater than or equal to 6\n",
    "                pair = False        # if yes, it is not fitting and set pair to false - then break out of the height check for this key\n",
    "                break\n",
    "        # if the pair condition still prevails after checking all columns, then we got a fitting pair - increase the count\n",
    "        if pair:         \n",
    "            lock_key_pair += 1\n",
    "\n",
    "print(lock_key_pair)\n"
   ]
  }
 ],
 "metadata": {
  "kernelspec": {
   "display_name": "Python 3",
   "language": "python",
   "name": "python3"
  },
  "language_info": {
   "codemirror_mode": {
    "name": "ipython",
    "version": 3
   },
   "file_extension": ".py",
   "mimetype": "text/x-python",
   "name": "python",
   "nbconvert_exporter": "python",
   "pygments_lexer": "ipython3",
   "version": "3.12.8"
  }
 },
 "nbformat": 4,
 "nbformat_minor": 2
}
