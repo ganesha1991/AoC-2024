{
 "cells": [
  {
   "cell_type": "code",
   "execution_count": 27,
   "metadata": {},
   "outputs": [],
   "source": [
    "with open(r\"C:\\Users\\thirggs\\Downloads\\Advent_of_code\\2024\\inputs\\4.txt\") as filedump:\n",
    "    # open the file, read entire file as string, strip the leading and trailing spaces, split based on lines into a list\n",
    "    grid = filedump.read().strip().split(\"\\n\")\n",
    "\n",
    "# determine the rows and columns of the grid - length of the list lines is rows - length of an individual element is columns\n",
    "rows    = len(grid)\n",
    "columns = len(grid[0])"
   ]
  },
  {
   "cell_type": "code",
   "execution_count": 28,
   "metadata": {},
   "outputs": [],
   "source": [
    "directions = []\n",
    "# generate all directions matrix\n",
    "# will use range of (-1,2) across all possible movements [-1,0,1] - move backward, stay, move forward on both axis\n",
    "\n",
    "for dx in range(-1,2):\n",
    "    for dy in range(-1,2):\n",
    "        # skip all zero entries and append the others into a directions list\n",
    "        if dx!=0 or dy!=0:\n",
    "            directions.append((dx,dy))\n",
    "            \n",
    "# print(directions)\n",
    "# directions = [(-1, -1), (-1, 0), (-1, 1), (0, -1), \n",
    "#                (0, 1), (1, -1), (1, 0), (1, 1)]\n",
    "            "
   ]
  },
  {
   "cell_type": "code",
   "execution_count": 29,
   "metadata": {},
   "outputs": [],
   "source": [
    "# function to navigate the grid to find XMAS\n",
    "def if_xmas(i, j, d):\n",
    "    # passing the argyments into function - i=row,j=column,d=direction\n",
    "    dx, dy = d\n",
    "    # split the direction tuple into dx and dy ie) d=(1,0) then dx=1 & dy=0\n",
    "    for k, l in enumerate(\"XMAS\"):\n",
    "        # enumerate over XMAS - will create a list of tuples (k,l) - [(0,'X'),(1,'M'),(2,'A'),(3,'S')]\n",
    "        # calculate the co-ordinates based on row, columns and directions\n",
    "        #example - at a iteration with i=4,j=5,d=(-1,0), k=1\n",
    "        # ii = 4 + 1 * 1 = 5 & jj = 5+1*0 = 5 -> that means position 5,5 in the grid\n",
    "        # reiterating this will give co-ordinates for the whole grid\n",
    "        ii = i + k * dx\n",
    "        jj = j + k * dy\n",
    "        \n",
    "        # check if the co-ordinates calculated are within the grid (check if it is less than rows/columns)\n",
    "        if not (0 <= ii < rows and 0 <= jj < columns):\n",
    "            return False\n",
    "        \n",
    "        # check the value at co-ordinates on grid if it matches with corresponding character in 'XMAS' string in tuple\n",
    "        if grid[ii][jj] != l:\n",
    "            return False\n",
    "        \n",
    "    # if all negative cases fail, then return True (means XMAS is found) \n",
    "    return True"
   ]
  },
  {
   "cell_type": "code",
   "execution_count": 33,
   "metadata": {},
   "outputs": [
    {
     "name": "stdout",
     "output_type": "stream",
     "text": [
      "2571\n"
     ]
    }
   ],
   "source": [
    "count = 0\n",
    "\n",
    "for a in range(rows):                     # iterate over all the rows\n",
    "    for b in range(columns):              # internal loop to each individual character in a row\n",
    "        for c in directions:              # loop over all direction possibilities\n",
    "            count += if_xmas(a,b,c)       # if it is true count will add\n",
    "            \n",
    "            \n",
    "print(count)"
   ]
  },
  {
   "cell_type": "code",
   "execution_count": 60,
   "metadata": {},
   "outputs": [
    {
     "name": "stdout",
     "output_type": "stream",
     "text": [
      "1992\n"
     ]
    }
   ],
   "source": [
    "# part 2: to find X-MAS - string MAS in the form of X as below\n",
    "# M   S\n",
    "#   A\n",
    "# M   S\n",
    "\n",
    "# will go with approach to find all A's first in the grid \n",
    "def if_x_mas(i,j):\n",
    "    flag = 1\n",
    "    # check for co-ordinates if they are within the range. -\n",
    "    # range will be 1 less than total size of grid as the character A can't be on last row and last column\n",
    "    if not(1 <= i < rows - 1 and 1 <= j < columns - 1):\n",
    "        return False\n",
    "    \n",
    "    # check if the character at the coordinates is A\n",
    "    if grid[i][j] != \"A\":\n",
    "        return False\n",
    "    \n",
    "    # if the character is A then check the diagonals for M & S\n",
    "    # formatting values in two co-ordinates of a diagonal into a string \n",
    "    # [...M.S...]\n",
    "    # [....A....]\n",
    "    # [...M.S...]\n",
    "    # ex. for (i,j) = (2,5) with A - then we will check diagonal_1 at (1,4) and (3,6) - will return string MS\n",
    "    # ex. for (i,j) = (2,4) with A - then we will check diagonal_2 at (1,6) and (3,4) - will return string SM\n",
    "    diagonal_1 = f\"{grid[i-1][j-1]}{grid[i+1][j+1]}\"\n",
    "    diagonal_2 = f\"{grid[i-1][j+1]}{grid[i+1][j-1]}\"\n",
    "   \n",
    "    \n",
    "    # check if the diagonal strings are matching the requirements - return True\n",
    "    if diagonal_1 in [\"MS\",\"SM\"] and diagonal_2 in [\"MS\",\"SM\"]:\n",
    "        return True\n",
    "    else:   # this has to be here as with else - the function might return none value if the condition fails\n",
    "        return False\n",
    "    \n",
    "# revised count\n",
    "count = 0\n",
    "for i in range(rows):\n",
    "    for j in range(columns):\n",
    "        count += if_x_mas(i, j)\n",
    "        \n",
    "print(count)\n"
   ]
  },
  {
   "cell_type": "code",
   "execution_count": null,
   "metadata": {},
   "outputs": [],
   "source": []
  },
  {
   "cell_type": "code",
   "execution_count": null,
   "metadata": {},
   "outputs": [],
   "source": []
  }
 ],
 "metadata": {
  "kernelspec": {
   "display_name": "Python 3",
   "language": "python",
   "name": "python3"
  },
  "language_info": {
   "codemirror_mode": {
    "name": "ipython",
    "version": 3
   },
   "file_extension": ".py",
   "mimetype": "text/x-python",
   "name": "python",
   "nbconvert_exporter": "python",
   "pygments_lexer": "ipython3",
   "version": "3.7.4"
  }
 },
 "nbformat": 4,
 "nbformat_minor": 2
}
