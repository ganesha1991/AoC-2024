{
 "cells": [
  {
   "cell_type": "code",
   "execution_count": 1,
   "metadata": {},
   "outputs": [],
   "source": [
    "# restart the kernel and re-run it to get appropriate results\n",
    "\n",
    "import re\n",
    "with open(r\"C:\\Users\\thirggs\\Downloads\\Advent_of_code\\2024\\inputs\\5.txt\") as print_input:\n",
    "    # open the file, read entire file as string, strip the leading and trailing spaces, split into two lists with whole rule,page text\n",
    "    ruledump, pagedump = print_input.read().strip().split(\"\\n\\n\")\n",
    "    \n",
    "rules=[]\n",
    "# split the rule dump list into list of individual rules\n",
    "ruledump_1 = ruledump.split(\"\\n\")\n",
    "# make the rule list into list of tuples with integers- so, two numbers in each rule can be accessed for verification with ease\n",
    "for rule in ruledump_1:\n",
    "    x,y = rule.split(\"|\")\n",
    "    rules.append((int(x),int(y)))\n",
    "\n",
    "\n",
    "pages=[]\n",
    "# split the page dump list into list of individual lists\n",
    "pagedump_1 = pagedump.split(\"\\n\")\n",
    "# now make them as a list of lists with integers rather than strings\n",
    "for page_1 in pagedump_1:\n",
    "    page = [int(a) for a in page_1.split(\",\")]\n",
    "    pages.append(page)\n"
   ]
  },
  {
   "cell_type": "code",
   "execution_count": 2,
   "metadata": {},
   "outputs": [],
   "source": [
    "# create a function to check each pageupdate entry with rule and see if it is a valid page update entry\n",
    "\n",
    "def check_rules(page):\n",
    "    # since both values and position are also to be checked - it is better we convert each list into a dictionary \n",
    "    # and then validate if that is following the rule\n",
    "    page_dict = {}\n",
    "    # using enumerate function to convert each list to dictionary \n",
    "    # note the value,pos values are used the other way unlike the regular key,value pairs\n",
    "    # the value in the list will be key and the position will be corresponding value\n",
    "    # because we have to find the position of a particualr value from rule to see if it is valid\n",
    "    # for list - [1,2,4,5,32,43] dict - {1: 0, 2: 1, 4: 2, 5: 3, 32: 4, 43: 5}\n",
    "    \n",
    "    for value,pos in enumerate(page):\n",
    "        page_dict[pos] = value\n",
    "\n",
    "    # with the dictionary for the list now \n",
    "    # iterate over the all the rules and check if both values in the rule are in the dict and verify their positions\n",
    "    for x,y  in rules:\n",
    "        if x in page_dict and y in page_dict and not page_dict[x] < page_dict[y]:\n",
    "            # if both are in the dict and the position of 1st is greater than 2nd. then return false and zero for mid value\n",
    "            return False\n",
    "    \n",
    "    # find the mid value    \n",
    "    mid_value = page[len(page)//2]\n",
    "    \n",
    "    # if the dict doesnt go to the if loop, then return True\n",
    "    return True\n"
   ]
  },
  {
   "cell_type": "code",
   "execution_count": null,
   "metadata": {},
   "outputs": [],
   "source": [
    "# part 1 solution\n",
    "\n",
    "# lets get count of pages where both entries are in the list and the count of pages which are not valid \n",
    "total = 0\n",
    "total_count = 0\n",
    "invalid_count = 0\n",
    "valid_count = 0\n",
    "\n",
    "total_count = len(pages)\n",
    "\n",
    "# check for each page - if it is valid\n",
    "for page in pages:\n",
    "    valid = check_rules(page)\n",
    "    \n",
    "    # if valid, then get the mid value from list and sum them up\n",
    "    if valid:\n",
    "        valid_count += 1\n",
    "        midvalue=page[len(page)//2]\n",
    "        total += midvalue\n",
    "        \n",
    "\n",
    "invalid_count = total_count - valid_count\n",
    "    \n",
    "print(\"total_count=\",total_count)\n",
    "print(\"valid_count=\",valid_count)\n",
    "print(\"invalid_count=\",invalid_count)\n",
    "print(\"total=\",total)"
   ]
  },
  {
   "cell_type": "code",
   "execution_count": 3,
   "metadata": {},
   "outputs": [],
   "source": [
    "# for part 2 - lets define a function to do bubble sort based on the elements in rules\n",
    "\n",
    "def bubb_sort(page):\n",
    "    while True:\n",
    "        sorted_by_rule = True\n",
    "        for i in range(len(page) - 1):\n",
    "            # Out of sync with rule\n",
    "            if (page[i+1], page[i]) in rules:\n",
    "                sorted_by_rule  = False\n",
    "                page[i], page[i+1] = page[i+1], page[i]\n",
    "        \n",
    "        if sorted_by_rule :\n",
    "            return page\n"
   ]
  },
  {
   "cell_type": "code",
   "execution_count": 4,
   "metadata": {},
   "outputs": [
    {
     "name": "stdout",
     "output_type": "stream",
     "text": [
      "total_count= 204\n",
      "valid_count= 119\n",
      "invalid_count= 0\n",
      "total= 7365\n",
      "correction= 5770\n"
     ]
    }
   ],
   "source": [
    "# part 2 solution\n",
    "\n",
    "# lets get count of pages where both entries are in the list and the count of pages which are not valid - that needs sorting\n",
    "total = 0\n",
    "total_count = 0\n",
    "invalid_count = 0\n",
    "valid_count = 0\n",
    "corrected_cnt = 0\n",
    "correction = 0\n",
    "\n",
    "total_count = len(pages)\n",
    "\n",
    "# check for each page - if it is valid\n",
    "for page in pages:\n",
    "    valid = check_rules(page)\n",
    "    \n",
    "    # if valid, then get the mid value from list and sum them up\n",
    "    if valid:\n",
    "        valid_count += 1\n",
    "        midvalue=page[len(page)//2]\n",
    "        total += midvalue\n",
    "        \n",
    "    if not valid:\n",
    "        corrected_cnt += 1\n",
    "        ordered_page = bubb_sort(page)\n",
    "        ordered_mid = ordered_page[len(ordered_page)//2]\n",
    "        correction += ordered_mid\n",
    "\n",
    "print(\"total_count=\",total_count)\n",
    "print(\"valid_count=\",valid_count)\n",
    "print(\"invalid_count=\",invalid_count)\n",
    "print(\"total=\",total)\n",
    "print(\"correction=\",correction)\n",
    "    \n"
   ]
  },
  {
   "cell_type": "code",
   "execution_count": 5,
   "metadata": {},
   "outputs": [
    {
     "name": "stdout",
     "output_type": "stream",
     "text": [
      "final_total= 13135\n"
     ]
    }
   ],
   "source": [
    "final_total = 0\n",
    "final_total = correction + total\n",
    "\n",
    "print(\"final_total=\",final_total)"
   ]
  },
  {
   "cell_type": "code",
   "execution_count": null,
   "metadata": {},
   "outputs": [],
   "source": []
  }
 ],
 "metadata": {
  "kernelspec": {
   "display_name": "Python 3",
   "language": "python",
   "name": "python3"
  },
  "language_info": {
   "codemirror_mode": {
    "name": "ipython",
    "version": 3
   },
   "file_extension": ".py",
   "mimetype": "text/x-python",
   "name": "python",
   "nbconvert_exporter": "python",
   "pygments_lexer": "ipython3",
   "version": "3.7.4"
  }
 },
 "nbformat": 4,
 "nbformat_minor": 2
}
